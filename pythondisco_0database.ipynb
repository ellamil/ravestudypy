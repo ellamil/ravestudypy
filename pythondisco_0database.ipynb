{
 "cells": [
  {
   "cell_type": "markdown",
   "metadata": {},
   "source": [
    "# Database"
   ]
  },
  {
   "cell_type": "code",
   "execution_count": 1,
   "metadata": {
    "collapsed": true
   },
   "outputs": [],
   "source": [
    "import time\n",
    "import os\n",
    "\n",
    "import sqlite3\n",
    "\n",
    "import pandas as pd\n",
    "import numpy as np\n",
    "import scipy as sp"
   ]
  },
  {
   "cell_type": "markdown",
   "metadata": {},
   "source": [
    "## Unprocessed accelerometer data"
   ]
  },
  {
   "cell_type": "markdown",
   "metadata": {},
   "source": [
    "Extract data from accelerometer app CSV files."
   ]
  },
  {
   "cell_type": "code",
   "execution_count": 2,
   "metadata": {
    "collapsed": false
   },
   "outputs": [],
   "source": [
    "def disco_parser(inputdir,outputdir,startstring,endstring):\n",
    "    ''' Extracts data from accelerometer app CSV files    \n",
    "    inputdir = Input data directory\n",
    "    outputdir = Output data directory (timeseries)\n",
    "    startstring = Event start time (HH:MM:SS:MS)\n",
    "    endstring = Event end time (HH:MM:SS:MS) \n",
    "    Returns: timeseries = Subjects' data (id,t,x,y,z) ''' \n",
    "\n",
    "    function = 'disco_parser'\n",
    "    print(time.strftime(\"%m/%d/%Y\"),time.strftime(\"%H:%M:%S\"),'Running',function)\n",
    "    \n",
    "    # Event start and end times in milliseconds\n",
    "    startnumber = [int(num) for num in startstring.split(':')]\n",
    "    endnumber = [int(num) for num in endstring.split(':')]\n",
    "    starttime = startnumber[0]*60*60*1000 + startnumber[1]*60*1000 + startnumber[2]*1000 + startnumber[3]\n",
    "    endtime = endnumber[0]*60*60*1000 + endnumber[1]*60*1000 + endnumber[2]*1000 + endnumber[3]\n",
    "    \n",
    "    timeseries = pd.DataFrame({})\n",
    "    # samplerateMS,samplerateHZ = {},{}\n",
    "    for file in os.listdir(os.path.join('.',inputdir)):\n",
    "        \n",
    "        print(time.strftime(\"%m/%d/%Y\"),time.strftime(\"%H:%M:%S\"),file)\n",
    "            \n",
    "        temp = pd.read_csv(os.path.join('.',inputdir,file),\n",
    "                           skiprows=[0],names=['h','m','s','ms','x','y','z'],\n",
    "                           sep=':|;',engine='python')\n",
    "\n",
    "        millisecond = np.add(np.add(np.add(np.array(temp.h)*60*60*1000,\n",
    "                                           np.array(temp.m)*60*1000),\n",
    "                                           np.array(temp.s)*1000),\n",
    "                                           np.array(temp.ms))            \n",
    "\n",
    "        try: \n",
    "            startindex = np.where(millisecond <= starttime)[0][-1] # Last timepoint before event start time\n",
    "            endindex = np.where(millisecond >= endtime)[0][0] # First timepoint after event end time\n",
    "        except IndexError: # Time series not within music start and end times\n",
    "            continue\n",
    "        \n",
    "        trim = pd.DataFrame({'t':millisecond[startindex:endindex+1],\n",
    "                             'x':temp.x[startindex:endindex+1],\n",
    "                             'y':temp.y[startindex:endindex+1],\n",
    "                             'z':temp.z[startindex:endindex+1],\n",
    "                             'id':[file[:-4]]*(endindex-startindex+1)})\n",
    "        \n",
    "        timeseries = pd.concat([timeseries,trim])\n",
    "        \n",
    "        # Time between each sampling time point (ms)\n",
    "        # difference = np.diff(millisecond[1:-1]) # Exclude first(startindex) and last(endindex) timepoints        \n",
    "        # samplerateMS[file[:-4]] = np.mean(difference) # Average sampling rate for each subject (ms)\n",
    "        # samplerateHZ[file[:-4]] = np.divide(1000,samplerateMS[file[:-4]]) # Average sampling rate for each subject (Hz)\n",
    "        \n",
    "    print(time.strftime(\"%m/%d/%Y\"),time.strftime(\"%H:%M:%S\"),'Saving',function+'.pkl')\n",
    "    timeseries.to_pickle(os.path.join('.',outputdir,function+'.pkl')) # To re-load: timeseries = pd.read_pickle(file_name)\n",
    "        \n",
    "    print(time.strftime(\"%m/%d/%Y\"),time.strftime(\"%H:%M:%S\"),'Done') \n",
    "    return timeseries"
   ]
  },
  {
   "cell_type": "code",
   "execution_count": 3,
   "metadata": {
    "collapsed": false,
    "scrolled": true
   },
   "outputs": [
    {
     "name": "stdout",
     "output_type": "stream",
     "text": [
      "11/07/2016 13:19:41 Running disco_parser\n",
      "11/07/2016 13:19:41 1a.csv\n",
      "11/07/2016 13:19:44 1b.csv\n",
      "11/07/2016 13:19:46 2a.csv\n",
      "11/07/2016 13:19:48 2b.csv\n",
      "11/07/2016 13:19:50 3a.csv\n",
      "11/07/2016 13:19:52 3b.csv\n",
      "11/07/2016 13:19:54 4a.csv\n",
      "11/07/2016 13:19:56 4b.csv\n",
      "11/07/2016 13:19:58 5b.csv\n",
      "11/07/2016 13:20:00 6a.csv\n",
      "11/07/2016 13:20:03 6b.csv\n",
      "11/07/2016 13:20:05 Saving disco_parser.pkl\n",
      "11/07/2016 13:20:07 Done\n"
     ]
    }
   ],
   "source": [
    "timeseries = disco_parser('testdata','','15:25:44:580','16:02:05:830')"
   ]
  },
  {
   "cell_type": "code",
   "execution_count": 4,
   "metadata": {
    "collapsed": false
   },
   "outputs": [
    {
     "data": {
      "text/html": [
       "<div>\n",
       "<table border=\"1\" class=\"dataframe\">\n",
       "  <thead>\n",
       "    <tr style=\"text-align: right;\">\n",
       "      <th></th>\n",
       "      <th>id</th>\n",
       "      <th>t</th>\n",
       "      <th>x</th>\n",
       "      <th>y</th>\n",
       "      <th>z</th>\n",
       "    </tr>\n",
       "  </thead>\n",
       "  <tbody>\n",
       "    <tr>\n",
       "      <th>15837</th>\n",
       "      <td>1a</td>\n",
       "      <td>55544529</td>\n",
       "      <td>-0.833</td>\n",
       "      <td>0.151</td>\n",
       "      <td>0.054</td>\n",
       "    </tr>\n",
       "    <tr>\n",
       "      <th>15838</th>\n",
       "      <td>1a</td>\n",
       "      <td>55544606</td>\n",
       "      <td>-0.848</td>\n",
       "      <td>0.218</td>\n",
       "      <td>0.078</td>\n",
       "    </tr>\n",
       "    <tr>\n",
       "      <th>15839</th>\n",
       "      <td>1a</td>\n",
       "      <td>55544610</td>\n",
       "      <td>-0.844</td>\n",
       "      <td>0.300</td>\n",
       "      <td>0.074</td>\n",
       "    </tr>\n",
       "    <tr>\n",
       "      <th>15840</th>\n",
       "      <td>1a</td>\n",
       "      <td>55544612</td>\n",
       "      <td>-0.833</td>\n",
       "      <td>0.313</td>\n",
       "      <td>0.093</td>\n",
       "    </tr>\n",
       "    <tr>\n",
       "      <th>15841</th>\n",
       "      <td>1a</td>\n",
       "      <td>55544617</td>\n",
       "      <td>-0.835</td>\n",
       "      <td>0.261</td>\n",
       "      <td>0.132</td>\n",
       "    </tr>\n",
       "  </tbody>\n",
       "</table>\n",
       "</div>"
      ],
      "text/plain": [
       "       id         t      x      y      z\n",
       "15837  1a  55544529 -0.833  0.151  0.054\n",
       "15838  1a  55544606 -0.848  0.218  0.078\n",
       "15839  1a  55544610 -0.844  0.300  0.074\n",
       "15840  1a  55544612 -0.833  0.313  0.093\n",
       "15841  1a  55544617 -0.835  0.261  0.132"
      ]
     },
     "execution_count": 4,
     "metadata": {},
     "output_type": "execute_result"
    }
   ],
   "source": [
    "timeseries.head()"
   ]
  },
  {
   "cell_type": "markdown",
   "metadata": {},
   "source": [
    "Create SQL database for unprocessed accelerometer data."
   ]
  },
  {
   "cell_type": "code",
   "execution_count": 5,
   "metadata": {
    "collapsed": false
   },
   "outputs": [],
   "source": [
    "def get_db(dbfile):\n",
    "    '''Connect to database.'''\n",
    "    sqlite_db = sqlite3.connect(os.path.join('.',dbfile))\n",
    "    return sqlite_db\n",
    "\n",
    "def init_db(dbfile,schema):\n",
    "    '''Create the database.'''\n",
    "    db = get_db(dbfile)\n",
    "    db.cursor().executescript(schema)\n",
    "    db.commit()\n",
    "    return db"
   ]
  },
  {
   "cell_type": "code",
   "execution_count": 6,
   "metadata": {
    "collapsed": false
   },
   "outputs": [],
   "source": [
    "disco_schema = \"\"\"\n",
    "DROP TABLE IF EXISTS \"unprocessed\";\n",
    "CREATE TABLE \"unprocessed\" (\n",
    "    \"id\" VARCHAR,\n",
    "    \"t\" FLOAT,\n",
    "    \"x\" FLOAT,\n",
    "    \"y\" FLOAT,\n",
    "    \"z\" FLOAT\n",
    ");\n",
    "\"\"\"\n",
    "\n",
    "db = init_db(\"disco_parser.db\",disco_schema) # Initialize the database\n",
    "timeseries.to_sql(\"unprocessed\",db,if_exists=\"replace\",index=False) # Populate the database\n",
    "\n",
    "db.commit() # Commit changes to the database\n",
    "db.close() # Close the connection to the database"
   ]
  },
  {
   "cell_type": "markdown",
   "metadata": {},
   "source": [
    "## Synchrony condition times"
   ]
  },
  {
   "cell_type": "markdown",
   "metadata": {},
   "source": [
    "Convert condition times to milliseconds from 00:00:00:000."
   ]
  },
  {
   "cell_type": "code",
   "execution_count": 7,
   "metadata": {
    "collapsed": false
   },
   "outputs": [],
   "source": [
    "def disco_millisecond(outputdir,fileID,events):\n",
    "    ''' Converts time to milliseconds from 00:00:00:000\n",
    "    outputdir = Output data directory (timeMSEC,timeNAME)\n",
    "    fileID = File identifier ('conditions','wholesongs','songparts')\n",
    "    events = Event time and name strings ('HH:MM:SS:MS','NAME')\n",
    "    Returns: eventtimes = Events' data (name,msec) '''\n",
    "    \n",
    "    function = 'disco_millisecond'\n",
    "    print(time.strftime(\"%m/%d/%Y\"),time.strftime(\"%H:%M:%S\"),'Running',function,fileID)\n",
    "    \n",
    "    timeMSEC,timeNAME = [],[]\n",
    "    for i in range(len(events)):\n",
    "        \n",
    "        print(time.strftime(\"%m/%d/%Y\"),time.strftime(\"%H:%M:%S\"),events[i][1])\n",
    "        \n",
    "        timeNUM = [int(num) for num in events[i][0].split(':')]\n",
    "        timeMSEC.append(timeNUM[0]*60*60*1000 + timeNUM[1]*60*1000 + timeNUM[2]*1000 + timeNUM[3])\n",
    "        timeNAME.append(events[i][1])\n",
    "    \n",
    "    eventtimes = pd.DataFrame({'name':timeNAME,'msec':timeMSEC})\n",
    "    \n",
    "    print(time.strftime(\"%m/%d/%Y\"),time.strftime(\"%H:%M:%S\"),'Saving',function+'_'+fileID+'.pkl')\n",
    "    eventtimes.to_pickle(os.path.join('.',outputdir,function+'_'+fileID+'.pkl'))\n",
    "    \n",
    "    print(time.strftime(\"%m/%d/%Y\"),time.strftime(\"%H:%M:%S\"),'Done') \n",
    "    return eventtimes"
   ]
  },
  {
   "cell_type": "code",
   "execution_count": 8,
   "metadata": {
    "collapsed": false
   },
   "outputs": [
    {
     "name": "stdout",
     "output_type": "stream",
     "text": [
      "11/07/2016 13:20:21 Running disco_millisecond conditions\n",
      "11/07/2016 13:20:21 Non-Synchrony 1\n",
      "11/07/2016 13:20:21 Synchrony 1 (Choreographed)\n",
      "11/07/2016 13:20:21 Non-Synchrony 2\n",
      "11/07/2016 13:20:21 Synchrony 2 (Anti-Phase)\n",
      "11/07/2016 13:20:21 Non-Synchrony 3\n",
      "11/07/2016 13:20:21 Synchrony 3 (Magnitude)\n",
      "11/07/2016 13:20:21 Non-Synchrony 4\n",
      "11/07/2016 13:20:21 Synchrony 4 (Delay)\n",
      "11/07/2016 13:20:21 Non-Synchrony 5\n",
      "11/07/2016 13:20:21 Synchrony 5 (Non-Choreographed)\n",
      "11/07/2016 13:20:21 End Time\n",
      "11/07/2016 13:20:21 Saving disco_millisecond_conditions.pkl\n",
      "11/07/2016 13:20:21 Done\n"
     ]
    }
   ],
   "source": [
    "eventtimes = disco_millisecond('','conditions',\n",
    "   [('15:25:44:580','Non-Synchrony 1'),\n",
    "    ('15:29:53:240','Synchrony 1 (Choreographed)'),\n",
    "    ('15:33:37:380','Non-Synchrony 2'),\n",
    "    ('15:36:51:310','Synchrony 2 (Anti-Phase)'),\n",
    "    ('15:40:56:120','Non-Synchrony 3'),\n",
    "    ('15:44:34:950','Synchrony 3 (Magnitude)'),\n",
    "    ('15:47:48:610','Non-Synchrony 4'),\n",
    "    ('15:50:59:640','Synchrony 4 (Delay)'),\n",
    "    ('15:54:25:740','Non-Synchrony 5'),\n",
    "    ('15:58:17:370','Synchrony 5 (Non-Choreographed)'),\n",
    "    ('16:02:05:830','End Time')])"
   ]
  },
  {
   "cell_type": "code",
   "execution_count": 9,
   "metadata": {
    "collapsed": false
   },
   "outputs": [
    {
     "data": {
      "text/html": [
       "<div>\n",
       "<table border=\"1\" class=\"dataframe\">\n",
       "  <thead>\n",
       "    <tr style=\"text-align: right;\">\n",
       "      <th></th>\n",
       "      <th>msec</th>\n",
       "      <th>name</th>\n",
       "    </tr>\n",
       "  </thead>\n",
       "  <tbody>\n",
       "    <tr>\n",
       "      <th>0</th>\n",
       "      <td>55544580</td>\n",
       "      <td>Non-Synchrony 1</td>\n",
       "    </tr>\n",
       "    <tr>\n",
       "      <th>1</th>\n",
       "      <td>55793240</td>\n",
       "      <td>Synchrony 1 (Choreographed)</td>\n",
       "    </tr>\n",
       "    <tr>\n",
       "      <th>2</th>\n",
       "      <td>56017380</td>\n",
       "      <td>Non-Synchrony 2</td>\n",
       "    </tr>\n",
       "    <tr>\n",
       "      <th>3</th>\n",
       "      <td>56211310</td>\n",
       "      <td>Synchrony 2 (Anti-Phase)</td>\n",
       "    </tr>\n",
       "    <tr>\n",
       "      <th>4</th>\n",
       "      <td>56456120</td>\n",
       "      <td>Non-Synchrony 3</td>\n",
       "    </tr>\n",
       "    <tr>\n",
       "      <th>5</th>\n",
       "      <td>56674950</td>\n",
       "      <td>Synchrony 3 (Magnitude)</td>\n",
       "    </tr>\n",
       "    <tr>\n",
       "      <th>6</th>\n",
       "      <td>56868610</td>\n",
       "      <td>Non-Synchrony 4</td>\n",
       "    </tr>\n",
       "    <tr>\n",
       "      <th>7</th>\n",
       "      <td>57059640</td>\n",
       "      <td>Synchrony 4 (Delay)</td>\n",
       "    </tr>\n",
       "    <tr>\n",
       "      <th>8</th>\n",
       "      <td>57265740</td>\n",
       "      <td>Non-Synchrony 5</td>\n",
       "    </tr>\n",
       "    <tr>\n",
       "      <th>9</th>\n",
       "      <td>57497370</td>\n",
       "      <td>Synchrony 5 (Non-Choreographed)</td>\n",
       "    </tr>\n",
       "    <tr>\n",
       "      <th>10</th>\n",
       "      <td>57725830</td>\n",
       "      <td>End Time</td>\n",
       "    </tr>\n",
       "  </tbody>\n",
       "</table>\n",
       "</div>"
      ],
      "text/plain": [
       "        msec                             name\n",
       "0   55544580                  Non-Synchrony 1\n",
       "1   55793240      Synchrony 1 (Choreographed)\n",
       "2   56017380                  Non-Synchrony 2\n",
       "3   56211310         Synchrony 2 (Anti-Phase)\n",
       "4   56456120                  Non-Synchrony 3\n",
       "5   56674950          Synchrony 3 (Magnitude)\n",
       "6   56868610                  Non-Synchrony 4\n",
       "7   57059640              Synchrony 4 (Delay)\n",
       "8   57265740                  Non-Synchrony 5\n",
       "9   57497370  Synchrony 5 (Non-Choreographed)\n",
       "10  57725830                         End Time"
      ]
     },
     "execution_count": 9,
     "metadata": {},
     "output_type": "execute_result"
    }
   ],
   "source": [
    "eventtimes"
   ]
  },
  {
   "cell_type": "markdown",
   "metadata": {},
   "source": [
    "Create SQL database for condition times."
   ]
  },
  {
   "cell_type": "code",
   "execution_count": 10,
   "metadata": {
    "collapsed": true
   },
   "outputs": [],
   "source": [
    "msec_schema = \"\"\"\n",
    "DROP TABLE IF EXISTS \"conditions\";\n",
    "CREATE TABLE \"conditions\" (\n",
    "    \"name\" VARCHAR,\n",
    "    \"msec\" FLOAT\n",
    ");\n",
    "\"\"\"\n",
    "\n",
    "db = init_db(\"disco_millisecond_conditions.db\",msec_schema)\n",
    "eventtimes.to_sql(\"conditions\",db,if_exists=\"replace\",index=False)\n",
    "\n",
    "db.commit()\n",
    "db.close()"
   ]
  }
 ],
 "metadata": {
  "anaconda-cloud": {},
  "kernelspec": {
   "display_name": "Python [Root]",
   "language": "python",
   "name": "Python [Root]"
  },
  "language_info": {
   "codemirror_mode": {
    "name": "ipython",
    "version": 3
   },
   "file_extension": ".py",
   "mimetype": "text/x-python",
   "name": "python",
   "nbconvert_exporter": "python",
   "pygments_lexer": "ipython3",
   "version": "3.5.2"
  }
 },
 "nbformat": 4,
 "nbformat_minor": 0
}
