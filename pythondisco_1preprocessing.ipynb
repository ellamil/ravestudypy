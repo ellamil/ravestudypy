{
 "cells": [
  {
   "cell_type": "markdown",
   "metadata": {},
   "source": [
    "# Preprocessing"
   ]
  },
  {
   "cell_type": "code",
   "execution_count": 1,
   "metadata": {
    "collapsed": false
   },
   "outputs": [],
   "source": [
    "%matplotlib inline\n",
    "\n",
    "import time\n",
    "import os\n",
    "\n",
    "import sqlite3\n",
    "\n",
    "import pandas as pd\n",
    "import numpy as np\n",
    "import scipy as sp\n",
    "\n",
    "import scipy.signal as sig\n",
    "import pywt # PyWavelets\n",
    "\n",
    "import matplotlib as mpl\n",
    "import matplotlib.cm as cm\n",
    "import matplotlib.pyplot as plt\n",
    "\n",
    "import seaborn as sns"
   ]
  },
  {
   "cell_type": "markdown",
   "metadata": {},
   "source": [
    "## Axes combination"
   ]
  },
  {
   "cell_type": "markdown",
   "metadata": {},
   "source": [
    "Load table of unprocessed accelerometer data."
   ]
  },
  {
   "cell_type": "code",
   "execution_count": 2,
   "metadata": {
    "collapsed": true
   },
   "outputs": [],
   "source": [
    "dbase = sqlite3.connect(\"disco_parser.db\")\n",
    "dframe = pd.read_sql_query(\"SELECT * FROM unprocessed\",dbase)\n",
    "dbase.close()"
   ]
  },
  {
   "cell_type": "code",
   "execution_count": 3,
   "metadata": {
    "collapsed": false
   },
   "outputs": [
    {
     "data": {
      "text/html": [
       "<div>\n",
       "<table border=\"1\" class=\"dataframe\">\n",
       "  <thead>\n",
       "    <tr style=\"text-align: right;\">\n",
       "      <th></th>\n",
       "      <th>id</th>\n",
       "      <th>t</th>\n",
       "      <th>x</th>\n",
       "      <th>y</th>\n",
       "      <th>z</th>\n",
       "    </tr>\n",
       "  </thead>\n",
       "  <tbody>\n",
       "    <tr>\n",
       "      <th>0</th>\n",
       "      <td>1a</td>\n",
       "      <td>55544529</td>\n",
       "      <td>-0.833</td>\n",
       "      <td>0.151</td>\n",
       "      <td>0.054</td>\n",
       "    </tr>\n",
       "    <tr>\n",
       "      <th>1</th>\n",
       "      <td>1a</td>\n",
       "      <td>55544606</td>\n",
       "      <td>-0.848</td>\n",
       "      <td>0.218</td>\n",
       "      <td>0.078</td>\n",
       "    </tr>\n",
       "    <tr>\n",
       "      <th>2</th>\n",
       "      <td>1a</td>\n",
       "      <td>55544610</td>\n",
       "      <td>-0.844</td>\n",
       "      <td>0.300</td>\n",
       "      <td>0.074</td>\n",
       "    </tr>\n",
       "    <tr>\n",
       "      <th>3</th>\n",
       "      <td>1a</td>\n",
       "      <td>55544612</td>\n",
       "      <td>-0.833</td>\n",
       "      <td>0.313</td>\n",
       "      <td>0.093</td>\n",
       "    </tr>\n",
       "    <tr>\n",
       "      <th>4</th>\n",
       "      <td>1a</td>\n",
       "      <td>55544617</td>\n",
       "      <td>-0.835</td>\n",
       "      <td>0.261</td>\n",
       "      <td>0.132</td>\n",
       "    </tr>\n",
       "  </tbody>\n",
       "</table>\n",
       "</div>"
      ],
      "text/plain": [
       "   id         t      x      y      z\n",
       "0  1a  55544529 -0.833  0.151  0.054\n",
       "1  1a  55544606 -0.848  0.218  0.078\n",
       "2  1a  55544610 -0.844  0.300  0.074\n",
       "3  1a  55544612 -0.833  0.313  0.093\n",
       "4  1a  55544617 -0.835  0.261  0.132"
      ]
     },
     "execution_count": 3,
     "metadata": {},
     "output_type": "execute_result"
    }
   ],
   "source": [
    "dframe.head()"
   ]
  },
  {
   "cell_type": "markdown",
   "metadata": {},
   "source": [
    "Line chart of the three accelerometer axes. (*Subject:* 1a)"
   ]
  },
  {
   "cell_type": "code",
   "execution_count": 2,
   "metadata": {
    "collapsed": true
   },
   "outputs": [],
   "source": [
    "# Load accelerometer data for subject\n",
    "subject = '1a'\n",
    "db = sqlite3.connect(\"disco_parser.db\")\n",
    "df0 = pd.read_sql_query(\"SELECT id, t, x, y, z FROM unprocessed WHERE id == '\"+subject+\"'\",db)\n",
    "db.close()"
   ]
  },
  {
   "cell_type": "code",
   "execution_count": 3,
   "metadata": {
    "collapsed": true
   },
   "outputs": [],
   "source": [
    "# Fill in missing samples with NaNs\n",
    "t = np.arange(df0['t'].values[0],df0['t'].values[-1])\n",
    "v1 = v2 = v3 = np.empty(len(t)); v1[:] = v2[:] = v3[:] = np.NAN\n",
    "df1 = pd.DataFrame(dict(t=t,x0=v1,y0=v2,z0=v3)) \n",
    "df2 = df0[['t','x','y','z']]\n",
    "df = df1.merge(df2,how='left',left_on='t',right_on='t')\n",
    "df = df[['t','x','y','z']]"
   ]
  },
  {
   "cell_type": "code",
   "execution_count": 4,
   "metadata": {
    "collapsed": false
   },
   "outputs": [
    {
     "data": {
      "image/png": "[encoded data removed]",
      "text/plain": [
       "<matplotlib.figure.Figure at 0x29e6dc41198>"
      ]
     },
     "metadata": {},
     "output_type": "display_data"
    }
   ],
   "source": [
    "start,end = 55544580,57725830 # Session start and end times\n",
    "first,last = np.where(df['t']==start)[0][0],np.where(df['t']==end)[0][0]+1\n",
    "T = df['t'][first:last].values # Milliseconds\n",
    "X = df['x'][first:last].values # X-axis\n",
    "Y = df['y'][first:last].values # Y-axis\n",
    "Z = df['z'][first:last].values # Z-axis\n",
    "\n",
    "with sns.axes_style(\"whitegrid\"):\n",
    "    \n",
    "    fig = plt.figure(); plt.clf()\n",
    "    \n",
    "    plt.plot(T,X,label='X-axis')\n",
    "    plt.plot(T,Y,label='Y-axis')\n",
    "    plt.plot(T,Z,label='Z-axis')      \n",
    "    \n",
    "    plt.axis([start,end,-2,2])    \n",
    "    plt.ticklabel_format(style='plain',axis='x')\n",
    "    \n",
    "    plt.legend()\n",
    "    plt.xlabel(\"Timepoint (ms)\")\n",
    "    plt.ylabel(\"Acceleration (m/s^2)\")\n",
    "    plt.title(\"Subject \"+subject+\": Unprocessed Accelerometer Data\")\n",
    "    \n",
    "    plt.show()"
   ]
  },
  {
   "cell_type": "markdown",
   "metadata": {},
   "source": [
    "Combine the three axis measures into one timeseries. (*Options:* vector, xalign, yalign, zalign)"
   ]
  },
  {
   "cell_type": "code",
   "execution_count": 4,
   "metadata": {
    "collapsed": false
   },
   "outputs": [],
   "source": [
    "def disco_combine(inputdata,outputdir,combotype):\n",
    "    ''' Combines the three axis measures into one measure\n",
    "    inputdata = Input data table (id,t,x,y,z)\n",
    "    outputdir = Output data directory\n",
    "    combotype = Combination type ('vector','xalign','yalign','zalign')\n",
    "    Returns: timeseries = Combined axis values (id,t,v) '''\n",
    "    \n",
    "    function = 'disco_combine'\n",
    "    print(time.strftime(\"%m/%d/%Y\"),time.strftime(\"%H:%M:%S\"),'Running',function,combotype)\n",
    "    \n",
    "    subjects = inputdata.id.unique()\n",
    "        \n",
    "    if combotype == 'vector': # SQRT(X^2 + Y^2 + Z^2)        \n",
    "        timeseries = pd.DataFrame({})\n",
    "        for s in subjects:\n",
    "            print(time.strftime(\"%m/%d/%Y\"),time.strftime(\"%H:%M:%S\"),s)\n",
    "            x = inputdata[inputdata.id == s].x.values\n",
    "            y = inputdata[inputdata.id == s].y.values\n",
    "            z = inputdata[inputdata.id == s].z.values\n",
    "            \n",
    "            v = np.sqrt(x**2 + y**2 + z**2)\n",
    "            \n",
    "            temp = pd.DataFrame({'id':inputdata[inputdata.id == s].id,\n",
    "                                 't':inputdata[inputdata.id == s].t,\n",
    "                                 'v':v})\n",
    "            timeseries = pd.concat([timeseries,temp])\n",
    "    \n",
    "    elif combotype == 'xalign': # ARCSIN(X / SQRT(X^2 + Y^2 + Z^2))\n",
    "        timeseries = pd.DataFrame({})\n",
    "        for s in subjects:\n",
    "            print(time.strftime(\"%m/%d/%Y\"),time.strftime(\"%H:%M:%S\"),s)\n",
    "            x = inputdata[inputdata.id == s].x.values\n",
    "            y = inputdata[inputdata.id == s].y.values\n",
    "            z = inputdata[inputdata.id == s].z.values\n",
    "            \n",
    "            v = np.arcsin(x / np.sqrt(x**2 + y**2 + z**2))\n",
    "            \n",
    "            temp = pd.DataFrame({'id':inputdata[inputdata.id == s].id,\n",
    "                                 't':inputdata[inputdata.id == s].t,\n",
    "                                 'v':v})\n",
    "            timeseries = pd.concat([timeseries,temp])\n",
    "    \n",
    "    elif combotype == 'yalign': # ARCSIN(Y / SQRT(X^2 + Y^2 + Z^2))\n",
    "        timeseries = pd.DataFrame({})\n",
    "        for s in subjects:\n",
    "            print(time.strftime(\"%m/%d/%Y\"),time.strftime(\"%H:%M:%S\"),s)\n",
    "            x = inputdata[inputdata.id == s].x.values\n",
    "            y = inputdata[inputdata.id == s].y.values\n",
    "            z = inputdata[inputdata.id == s].z.values\n",
    "            \n",
    "            v = np.arcsin(y / np.sqrt(x**2 + y**2 + z**2))\n",
    "            \n",
    "            temp = pd.DataFrame({'id':inputdata[inputdata.id == s].id,\n",
    "                                 't':inputdata[inputdata.id == s].t,\n",
    "                                 'v':v})\n",
    "            timeseries = pd.concat([timeseries,temp])\n",
    "    \n",
    "    elif combotype == 'zalign': # ARCSIN(Z / SQRT(X^2 + Y^2 + Z^2)) \n",
    "        timeseries = pd.DataFrame({})\n",
    "        for s in subjects:\n",
    "            print(time.strftime(\"%m/%d/%Y\"),time.strftime(\"%H:%M:%S\"),s)\n",
    "            x = inputdata[inputdata.id == s].x.values\n",
    "            y = inputdata[inputdata.id == s].y.values\n",
    "            z = inputdata[inputdata.id == s].z.values\n",
    "            \n",
    "            v = np.arcsin(z / np.sqrt(x**2 + y**2 + z**2))\n",
    "            \n",
    "            temp = pd.DataFrame({'id':inputdata[inputdata.id == s].id,\n",
    "                                 't':inputdata[inputdata.id == s].t,\n",
    "                                 'v':v})\n",
    "            timeseries = pd.concat([timeseries,temp])\n",
    "    \n",
    "    print(time.strftime(\"%m/%d/%Y\"),time.strftime(\"%H:%M:%S\"),'Saving',function+'_'+combotype+'.pkl')\n",
    "    timeseries.to_pickle(os.path.join('.',outputdir,function+'_'+combotype+'.pkl'))\n",
    "    \n",
    "    print(time.strftime(\"%m/%d/%Y\"),time.strftime(\"%H:%M:%S\"),'Done') \n",
    "    return timeseries"
   ]
  },
  {
   "cell_type": "code",
   "execution_count": 5,
   "metadata": {
    "collapsed": false
   },
   "outputs": [
    {
     "name": "stdout",
     "output_type": "stream",
     "text": [
      "11/08/2016 12:59:18 Running disco_combine vector\n",
      "11/08/2016 12:59:19 1a\n",
      "11/08/2016 12:59:19 1b\n",
      "11/08/2016 12:59:20 2a\n",
      "11/08/2016 12:59:21 2b\n",
      "11/08/2016 12:59:21 3a\n",
      "11/08/2016 12:59:22 3b\n",
      "11/08/2016 12:59:23 4a\n",
      "11/08/2016 12:59:23 4b\n",
      "11/08/2016 12:59:24 5b\n",
      "11/08/2016 12:59:25 6a\n",
      "11/08/2016 12:59:26 6b\n",
      "11/08/2016 12:59:26 Saving disco_combine_vector.pkl\n",
      "11/08/2016 12:59:28 Done\n",
      "11/08/2016 12:59:28 Running disco_combine xalign\n",
      "11/08/2016 12:59:28 1a\n",
      "11/08/2016 12:59:28 1b\n",
      "11/08/2016 12:59:29 2a\n",
      "11/08/2016 12:59:30 2b\n",
      "11/08/2016 12:59:30 3a\n",
      "11/08/2016 12:59:31 3b\n",
      "11/08/2016 12:59:32 4a\n",
      "11/08/2016 12:59:33 4b\n",
      "11/08/2016 12:59:33 5b\n",
      "11/08/2016 12:59:34 6a\n",
      "11/08/2016 12:59:35 6b\n",
      "11/08/2016 12:59:36 Saving disco_combine_xalign.pkl\n",
      "11/08/2016 12:59:37 Done\n",
      "11/08/2016 12:59:37 Running disco_combine yalign\n",
      "11/08/2016 12:59:37 1a\n",
      "11/08/2016 12:59:38 1b\n",
      "11/08/2016 12:59:38 2a\n",
      "11/08/2016 12:59:39 2b\n",
      "11/08/2016 12:59:40 3a\n",
      "11/08/2016 12:59:40 3b\n",
      "11/08/2016 12:59:41 4a\n",
      "11/08/2016 12:59:42 4b\n",
      "11/08/2016 12:59:43 5b\n",
      "11/08/2016 12:59:43 6a\n",
      "11/08/2016 12:59:44 6b\n",
      "11/08/2016 12:59:45 Saving disco_combine_yalign.pkl\n",
      "11/08/2016 12:59:46 Done\n",
      "11/08/2016 12:59:46 Running disco_combine zalign\n",
      "11/08/2016 12:59:46 1a\n",
      "11/08/2016 12:59:47 1b\n",
      "11/08/2016 12:59:47 2a\n",
      "11/08/2016 12:59:48 2b\n",
      "11/08/2016 12:59:49 3a\n",
      "11/08/2016 12:59:49 3b\n",
      "11/08/2016 12:59:50 4a\n",
      "11/08/2016 12:59:51 4b\n",
      "11/08/2016 12:59:52 5b\n",
      "11/08/2016 12:59:52 6a\n",
      "11/08/2016 12:59:53 6b\n",
      "11/08/2016 12:59:54 Saving disco_combine_zalign.pkl\n",
      "11/08/2016 12:59:55 Done\n"
     ]
    }
   ],
   "source": [
    "vector = disco_combine(dframe,'','vector')\n",
    "xalign = disco_combine(dframe,'','xalign')\n",
    "yalign = disco_combine(dframe,'','yalign')\n",
    "zalign = disco_combine(dframe,'','zalign')"
   ]
  },
  {
   "cell_type": "code",
   "execution_count": 6,
   "metadata": {
    "collapsed": false
   },
   "outputs": [
    {
     "data": {
      "text/html": [
       "<div>\n",
       "<table border=\"1\" class=\"dataframe\">\n",
       "  <thead>\n",
       "    <tr style=\"text-align: right;\">\n",
       "      <th></th>\n",
       "      <th>id</th>\n",
       "      <th>t</th>\n",
       "      <th>v</th>\n",
       "    </tr>\n",
       "  </thead>\n",
       "  <tbody>\n",
       "    <tr>\n",
       "      <th>0</th>\n",
       "      <td>1a</td>\n",
       "      <td>55544529</td>\n",
       "      <td>0.848296</td>\n",
       "    </tr>\n",
       "    <tr>\n",
       "      <th>1</th>\n",
       "      <td>1a</td>\n",
       "      <td>55544606</td>\n",
       "      <td>0.879040</td>\n",
       "    </tr>\n",
       "    <tr>\n",
       "      <th>2</th>\n",
       "      <td>1a</td>\n",
       "      <td>55544610</td>\n",
       "      <td>0.898784</td>\n",
       "    </tr>\n",
       "    <tr>\n",
       "      <th>3</th>\n",
       "      <td>1a</td>\n",
       "      <td>55544612</td>\n",
       "      <td>0.894711</td>\n",
       "    </tr>\n",
       "    <tr>\n",
       "      <th>4</th>\n",
       "      <td>1a</td>\n",
       "      <td>55544617</td>\n",
       "      <td>0.884743</td>\n",
       "    </tr>\n",
       "  </tbody>\n",
       "</table>\n",
       "</div>"
      ],
      "text/plain": [
       "   id         t         v\n",
       "0  1a  55544529  0.848296\n",
       "1  1a  55544606  0.879040\n",
       "2  1a  55544610  0.898784\n",
       "3  1a  55544612  0.894711\n",
       "4  1a  55544617  0.884743"
      ]
     },
     "execution_count": 6,
     "metadata": {},
     "output_type": "execute_result"
    }
   ],
   "source": [
    "vector.head()"
   ]
  },
  {
   "cell_type": "code",
   "execution_count": 7,
   "metadata": {
    "collapsed": false
   },
   "outputs": [
    {
     "data": {
      "text/html": [
       "<div>\n",
       "<table border=\"1\" class=\"dataframe\">\n",
       "  <thead>\n",
       "    <tr style=\"text-align: right;\">\n",
       "      <th></th>\n",
       "      <th>id</th>\n",
       "      <th>t</th>\n",
       "      <th>v</th>\n",
       "    </tr>\n",
       "  </thead>\n",
       "  <tbody>\n",
       "    <tr>\n",
       "      <th>0</th>\n",
       "      <td>1a</td>\n",
       "      <td>55544529</td>\n",
       "      <td>-1.380608</td>\n",
       "    </tr>\n",
       "    <tr>\n",
       "      <th>1</th>\n",
       "      <td>1a</td>\n",
       "      <td>55544606</td>\n",
       "      <td>-1.304258</td>\n",
       "    </tr>\n",
       "    <tr>\n",
       "      <th>2</th>\n",
       "      <td>1a</td>\n",
       "      <td>55544610</td>\n",
       "      <td>-1.219847</td>\n",
       "    </tr>\n",
       "    <tr>\n",
       "      <th>3</th>\n",
       "      <td>1a</td>\n",
       "      <td>55544612</td>\n",
       "      <td>-1.197218</td>\n",
       "    </tr>\n",
       "    <tr>\n",
       "      <th>4</th>\n",
       "      <td>1a</td>\n",
       "      <td>55544617</td>\n",
       "      <td>-1.233875</td>\n",
       "    </tr>\n",
       "  </tbody>\n",
       "</table>\n",
       "</div>"
      ],
      "text/plain": [
       "   id         t         v\n",
       "0  1a  55544529 -1.380608\n",
       "1  1a  55544606 -1.304258\n",
       "2  1a  55544610 -1.219847\n",
       "3  1a  55544612 -1.197218\n",
       "4  1a  55544617 -1.233875"
      ]
     },
     "execution_count": 7,
     "metadata": {},
     "output_type": "execute_result"
    }
   ],
   "source": [
    "xalign.head()"
   ]
  },
  {
   "cell_type": "code",
   "execution_count": 8,
   "metadata": {
    "collapsed": false
   },
   "outputs": [
    {
     "data": {
      "text/html": [
       "<div>\n",
       "<table border=\"1\" class=\"dataframe\">\n",
       "  <thead>\n",
       "    <tr style=\"text-align: right;\">\n",
       "      <th></th>\n",
       "      <th>id</th>\n",
       "      <th>t</th>\n",
       "      <th>v</th>\n",
       "    </tr>\n",
       "  </thead>\n",
       "  <tbody>\n",
       "    <tr>\n",
       "      <th>0</th>\n",
       "      <td>1a</td>\n",
       "      <td>55544529</td>\n",
       "      <td>0.178958</td>\n",
       "    </tr>\n",
       "    <tr>\n",
       "      <th>1</th>\n",
       "      <td>1a</td>\n",
       "      <td>55544606</td>\n",
       "      <td>0.250613</td>\n",
       "    </tr>\n",
       "    <tr>\n",
       "      <th>2</th>\n",
       "      <td>1a</td>\n",
       "      <td>55544610</td>\n",
       "      <td>0.340315</td>\n",
       "    </tr>\n",
       "    <tr>\n",
       "      <th>3</th>\n",
       "      <td>1a</td>\n",
       "      <td>55544612</td>\n",
       "      <td>0.357394</td>\n",
       "    </tr>\n",
       "    <tr>\n",
       "      <th>4</th>\n",
       "      <td>1a</td>\n",
       "      <td>55544617</td>\n",
       "      <td>0.299457</td>\n",
       "    </tr>\n",
       "  </tbody>\n",
       "</table>\n",
       "</div>"
      ],
      "text/plain": [
       "   id         t         v\n",
       "0  1a  55544529  0.178958\n",
       "1  1a  55544606  0.250613\n",
       "2  1a  55544610  0.340315\n",
       "3  1a  55544612  0.357394\n",
       "4  1a  55544617  0.299457"
      ]
     },
     "execution_count": 8,
     "metadata": {},
     "output_type": "execute_result"
    }
   ],
   "source": [
    "yalign.head()"
   ]
  },
  {
   "cell_type": "code",
   "execution_count": 9,
   "metadata": {
    "collapsed": false
   },
   "outputs": [
    {
     "data": {
      "text/html": [
       "<div>\n",
       "<table border=\"1\" class=\"dataframe\">\n",
       "  <thead>\n",
       "    <tr style=\"text-align: right;\">\n",
       "      <th></th>\n",
       "      <th>id</th>\n",
       "      <th>t</th>\n",
       "      <th>v</th>\n",
       "    </tr>\n",
       "  </thead>\n",
       "  <tbody>\n",
       "    <tr>\n",
       "      <th>0</th>\n",
       "      <td>1a</td>\n",
       "      <td>55544529</td>\n",
       "      <td>0.063700</td>\n",
       "    </tr>\n",
       "    <tr>\n",
       "      <th>1</th>\n",
       "      <td>1a</td>\n",
       "      <td>55544606</td>\n",
       "      <td>0.088850</td>\n",
       "    </tr>\n",
       "    <tr>\n",
       "      <th>2</th>\n",
       "      <td>1a</td>\n",
       "      <td>55544610</td>\n",
       "      <td>0.082427</td>\n",
       "    </tr>\n",
       "    <tr>\n",
       "      <th>3</th>\n",
       "      <td>1a</td>\n",
       "      <td>55544612</td>\n",
       "      <td>0.104132</td>\n",
       "    </tr>\n",
       "    <tr>\n",
       "      <th>4</th>\n",
       "      <td>1a</td>\n",
       "      <td>55544617</td>\n",
       "      <td>0.149755</td>\n",
       "    </tr>\n",
       "  </tbody>\n",
       "</table>\n",
       "</div>"
      ],
      "text/plain": [
       "   id         t         v\n",
       "0  1a  55544529  0.063700\n",
       "1  1a  55544606  0.088850\n",
       "2  1a  55544610  0.082427\n",
       "3  1a  55544612  0.104132\n",
       "4  1a  55544617  0.149755"
      ]
     },
     "execution_count": 9,
     "metadata": {},
     "output_type": "execute_result"
    }
   ],
   "source": [
    "zalign.head()"
   ]
  },
  {
   "cell_type": "markdown",
   "metadata": {},
   "source": [
    "Add combined axes columns to table of unprocessed data."
   ]
  },
  {
   "cell_type": "code",
   "execution_count": 12,
   "metadata": {
    "collapsed": false
   },
   "outputs": [],
   "source": [
    "combodict = {'vector':vector,'xalign':xalign,'yalign':yalign,'zalign':zalign}\n",
    "for combo in combodict.keys():\n",
    "    newcol = combodict[combo].rename(columns={'v':combo})   \n",
    "    dframe = pd.concat([dframe,newcol[combo]],axis=1)"
   ]
  },
  {
   "cell_type": "code",
   "execution_count": 13,
   "metadata": {
    "collapsed": false
   },
   "outputs": [
    {
     "data": {
      "text/html": [
       "<div>\n",
       "<table border=\"1\" class=\"dataframe\">\n",
       "  <thead>\n",
       "    <tr style=\"text-align: right;\">\n",
       "      <th></th>\n",
       "      <th>id</th>\n",
       "      <th>t</th>\n",
       "      <th>x</th>\n",
       "      <th>y</th>\n",
       "      <th>z</th>\n",
       "      <th>yalign</th>\n",
       "      <th>xalign</th>\n",
       "      <th>vector</th>\n",
       "      <th>zalign</th>\n",
       "    </tr>\n",
       "  </thead>\n",
       "  <tbody>\n",
       "    <tr>\n",
       "      <th>0</th>\n",
       "      <td>1a</td>\n",
       "      <td>55544529</td>\n",
       "      <td>-0.833</td>\n",
       "      <td>0.151</td>\n",
       "      <td>0.054</td>\n",
       "      <td>0.178958</td>\n",
       "      <td>-1.380608</td>\n",
       "      <td>0.848296</td>\n",
       "      <td>0.063700</td>\n",
       "    </tr>\n",
       "    <tr>\n",
       "      <th>1</th>\n",
       "      <td>1a</td>\n",
       "      <td>55544606</td>\n",
       "      <td>-0.848</td>\n",
       "      <td>0.218</td>\n",
       "      <td>0.078</td>\n",
       "      <td>0.250613</td>\n",
       "      <td>-1.304258</td>\n",
       "      <td>0.879040</td>\n",
       "      <td>0.088850</td>\n",
       "    </tr>\n",
       "    <tr>\n",
       "      <th>2</th>\n",
       "      <td>1a</td>\n",
       "      <td>55544610</td>\n",
       "      <td>-0.844</td>\n",
       "      <td>0.300</td>\n",
       "      <td>0.074</td>\n",
       "      <td>0.340315</td>\n",
       "      <td>-1.219847</td>\n",
       "      <td>0.898784</td>\n",
       "      <td>0.082427</td>\n",
       "    </tr>\n",
       "    <tr>\n",
       "      <th>3</th>\n",
       "      <td>1a</td>\n",
       "      <td>55544612</td>\n",
       "      <td>-0.833</td>\n",
       "      <td>0.313</td>\n",
       "      <td>0.093</td>\n",
       "      <td>0.357394</td>\n",
       "      <td>-1.197218</td>\n",
       "      <td>0.894711</td>\n",
       "      <td>0.104132</td>\n",
       "    </tr>\n",
       "    <tr>\n",
       "      <th>4</th>\n",
       "      <td>1a</td>\n",
       "      <td>55544617</td>\n",
       "      <td>-0.835</td>\n",
       "      <td>0.261</td>\n",
       "      <td>0.132</td>\n",
       "      <td>0.299457</td>\n",
       "      <td>-1.233875</td>\n",
       "      <td>0.884743</td>\n",
       "      <td>0.149755</td>\n",
       "    </tr>\n",
       "  </tbody>\n",
       "</table>\n",
       "</div>"
      ],
      "text/plain": [
       "   id         t      x      y      z    yalign    xalign    vector    zalign\n",
       "0  1a  55544529 -0.833  0.151  0.054  0.178958 -1.380608  0.848296  0.063700\n",
       "1  1a  55544606 -0.848  0.218  0.078  0.250613 -1.304258  0.879040  0.088850\n",
       "2  1a  55544610 -0.844  0.300  0.074  0.340315 -1.219847  0.898784  0.082427\n",
       "3  1a  55544612 -0.833  0.313  0.093  0.357394 -1.197218  0.894711  0.104132\n",
       "4  1a  55544617 -0.835  0.261  0.132  0.299457 -1.233875  0.884743  0.149755"
      ]
     },
     "execution_count": 13,
     "metadata": {},
     "output_type": "execute_result"
    }
   ],
   "source": [
    "dframe.head()"
   ]
  },
  {
   "cell_type": "markdown",
   "metadata": {},
   "source": [
    "Replace old database with new database including combined axes columns."
   ]
  },
  {
   "cell_type": "code",
   "execution_count": 14,
   "metadata": {
    "collapsed": true
   },
   "outputs": [],
   "source": [
    "combo_schema = \"\"\"\n",
    "DROP TABLE IF EXISTS \"unprocessed\";\n",
    "CREATE TABLE \"unprocessed\" (\n",
    "    \"id\" VARCHAR,\n",
    "    \"t\" FLOAT,\n",
    "    \"x\" FLOAT,\n",
    "    \"y\" FLOAT,\n",
    "    \"z\" FLOAT,\n",
    "    \"vector\" FLOAT,\n",
    "    \"xalign\" FLOAT,\n",
    "    \"yalign\" FLOAT,\n",
    "    \"zalign\" FLOAT\n",
    ");\n",
    "\"\"\"\n",
    "dbase = sqlite3.connect(\"disco_parser.db\")\n",
    "dbase.cursor().executescript(combo_schema); dbase.commit()\n",
    "dframe.to_sql(\"unprocessed\",dbase,if_exists=\"replace\",index=False); dbase.commit()\n",
    "dbase.close()"
   ]
  },
  {
   "cell_type": "markdown",
   "metadata": {},
   "source": [
    "Line chart of the combined axes. (*Type:* z-align)"
   ]
  },
  {
   "cell_type": "code",
   "execution_count": 2,
   "metadata": {
    "collapsed": true
   },
   "outputs": [],
   "source": [
    "# Load combined accelerometer axes for subject\n",
    "subject = '1a'\n",
    "db = sqlite3.connect(\"disco_parser.db\")\n",
    "df0 = pd.read_sql_query(\"SELECT id, t, zalign FROM unprocessed WHERE id == '\"+subject+\"'\",db)\n",
    "db.close()"
   ]
  },
  {
   "cell_type": "code",
   "execution_count": 3,
   "metadata": {
    "collapsed": true
   },
   "outputs": [],
   "source": [
    "# Fill in missing samples with NaNs\n",
    "t = np.arange(df0['t'].values[0],df0['t'].values[-1])\n",
    "df1 = pd.DataFrame(dict(t=t)) \n",
    "df2 = df0[['t','zalign']]\n",
    "df = df1.merge(df2,how='left',left_on='t',right_on='t')"
   ]
  },
  {
   "cell_type": "code",
   "execution_count": 4,
   "metadata": {
    "collapsed": false
   },
   "outputs": [
    {
     "data": {
      "image/png": "[encoded data removed]",
      "text/plain": [
       "<matplotlib.figure.Figure at 0x251a7282550>"
      ]
     },
     "metadata": {},
     "output_type": "display_data"
    }
   ],
   "source": [
    "start,end = 55544580,57725830 # Session start and end times\n",
    "first,last = np.where(df['t']==start)[0][0],np.where(df['t']==end)[0][0]+1\n",
    "T = df['t'][first:last].values # Milliseconds\n",
    "V = df['zalign'][first:last].values # Z-aligned\n",
    "\n",
    "with sns.axes_style(\"whitegrid\"):\n",
    "    \n",
    "    fig = plt.figure(); plt.clf()\n",
    "    \n",
    "    plt.plot(T,V)     \n",
    "    \n",
    "    plt.axis([start,end,-2,2])    \n",
    "    plt.ticklabel_format(style='plain',axis='x')\n",
    "    \n",
    "    plt.xlabel(\"Timepoint (ms)\")\n",
    "    plt.ylabel(\"Acceleration (m/s^2)\")\n",
    "    plt.title(\"Subject \"+subject+\": Combined Accelerometer Axes (Z-align)\")\n",
    "    \n",
    "    plt.show()"
   ]
  },
  {
   "cell_type": "markdown",
   "metadata": {},
   "source": [
    "## Time interpolation"
   ]
  },
  {
   "cell_type": "markdown",
   "metadata": {},
   "source": [
    "Load combined axes timeseries."
   ]
  },
  {
   "cell_type": "code",
   "execution_count": 15,
   "metadata": {
    "collapsed": false
   },
   "outputs": [
    {
     "data": {
      "text/html": [
       "<div>\n",
       "<table border=\"1\" class=\"dataframe\">\n",
       "  <thead>\n",
       "    <tr style=\"text-align: right;\">\n",
       "      <th></th>\n",
       "      <th>id</th>\n",
       "      <th>t</th>\n",
       "      <th>vector</th>\n",
       "      <th>xalign</th>\n",
       "      <th>yalign</th>\n",
       "      <th>zalign</th>\n",
       "    </tr>\n",
       "  </thead>\n",
       "  <tbody>\n",
       "    <tr>\n",
       "      <th>0</th>\n",
       "      <td>1a</td>\n",
       "      <td>55544529</td>\n",
       "      <td>0.848296</td>\n",
       "      <td>-1.380608</td>\n",
       "      <td>0.178958</td>\n",
       "      <td>0.063700</td>\n",
       "    </tr>\n",
       "    <tr>\n",
       "      <th>1</th>\n",
       "      <td>1a</td>\n",
       "      <td>55544606</td>\n",
       "      <td>0.879040</td>\n",
       "      <td>-1.304258</td>\n",
       "      <td>0.250613</td>\n",
       "      <td>0.088850</td>\n",
       "    </tr>\n",
       "    <tr>\n",
       "      <th>2</th>\n",
       "      <td>1a</td>\n",
       "      <td>55544610</td>\n",
       "      <td>0.898784</td>\n",
       "      <td>-1.219847</td>\n",
       "      <td>0.340315</td>\n",
       "      <td>0.082427</td>\n",
       "    </tr>\n",
       "    <tr>\n",
       "      <th>3</th>\n",
       "      <td>1a</td>\n",
       "      <td>55544612</td>\n",
       "      <td>0.894711</td>\n",
       "      <td>-1.197218</td>\n",
       "      <td>0.357394</td>\n",
       "      <td>0.104132</td>\n",
       "    </tr>\n",
       "    <tr>\n",
       "      <th>4</th>\n",
       "      <td>1a</td>\n",
       "      <td>55544617</td>\n",
       "      <td>0.884743</td>\n",
       "      <td>-1.233875</td>\n",
       "      <td>0.299457</td>\n",
       "      <td>0.149755</td>\n",
       "    </tr>\n",
       "  </tbody>\n",
       "</table>\n",
       "</div>"
      ],
      "text/plain": [
       "   id         t    vector    xalign    yalign    zalign\n",
       "0  1a  55544529  0.848296 -1.380608  0.178958  0.063700\n",
       "1  1a  55544606  0.879040 -1.304258  0.250613  0.088850\n",
       "2  1a  55544610  0.898784 -1.219847  0.340315  0.082427\n",
       "3  1a  55544612  0.894711 -1.197218  0.357394  0.104132\n",
       "4  1a  55544617  0.884743 -1.233875  0.299457  0.149755"
      ]
     },
     "execution_count": 15,
     "metadata": {},
     "output_type": "execute_result"
    }
   ],
   "source": [
    "dbase = sqlite3.connect(\"disco_parser.db\")\n",
    "dframe = pd.read_sql_query(\"SELECT id, t, vector, xalign, yalign, zalign FROM unprocessed\",dbase)\n",
    "dbase.close()\n",
    "dframe.head()"
   ]
  },
  {
   "cell_type": "markdown",
   "metadata": {},
   "source": [
    "Interpolate combined axes timeseries. (*Options:* linear, cubic, nearest)"
   ]
  },
  {
   "cell_type": "code",
   "execution_count": 16,
   "metadata": {
    "collapsed": false
   },
   "outputs": [],
   "source": [
    "def disco_interpolate(inputdata,combotype,outputdir,interptype,startstring,endstring):\n",
    "    ''' Interpolates accelerometer timeseries\n",
    "    inputdata = Input data table (id,t,v[vector/xalign/yalign/zalign])\n",
    "    combotype = 'vector' / 'xalign' / 'yalign' / 'zalign'\n",
    "    outputdir = Output data directory\n",
    "    interptype = Interpolation type ('linear','cubic','nearest')\n",
    "    startstring = Event start time (HH:MM:SS:MS)\n",
    "    endstring = Event end time (HH:MM:SS:MS)\n",
    "    Returns: timeseries = Interpolated values (id,t,v) '''\n",
    "    \n",
    "    function = 'disco_interpolate'\n",
    "    print(time.strftime(\"%m/%d/%Y\"),time.strftime(\"%H:%M:%S\"),'Running',function,interptype)\n",
    "    \n",
    "    # Event start and end times in milliseconds\n",
    "    startnumber = [int(num) for num in startstring.split(':')]\n",
    "    endnumber = [int(num) for num in endstring.split(':')]\n",
    "    starttime = startnumber[0]*60*60*1000 + startnumber[1]*60*1000 + startnumber[2]*1000 + startnumber[3]\n",
    "    endtime = endnumber[0]*60*60*1000 + endnumber[1]*60*1000 + endnumber[2]*1000 + endnumber[3]\n",
    "        \n",
    "    subjects = inputdata.id.unique()\n",
    "    \n",
    "    timeseries = pd.DataFrame({})\n",
    "    for s in subjects:\n",
    "        \n",
    "        print(time.strftime(\"%m/%d/%Y\"),time.strftime(\"%H:%M:%S\"),s)\n",
    "        \n",
    "        X = inputdata[inputdata.id == s].t.values # Sampled milliseconds\n",
    "        Y = inputdata[inputdata.id == s].v.values # Sampled acceleration\n",
    "        \n",
    "        U,I = np.unique(X,return_index=True) # Find unique milliseconds\n",
    "        X = X[I] # Remove duplicate milliseconds (i.e., 2 samples in 1 ms)\n",
    "        Y = Y[I] # Remove corresponding acceleration samples\n",
    "        \n",
    "        if interptype == 'linear' or interptype == 'nearest':\n",
    "            F = sp.interpolate.interp1d(X,Y,kind=interptype)\n",
    "        elif interptype == 'cubic':\n",
    "            F = sp.interpolate.PchipInterpolator(X,Y)\n",
    "        \n",
    "        XQ = np.arange(X[0],X[-1]+1) # Interpolated milliseconds\n",
    "        YQ = F(XQ) # Interpolated acceleration samples\n",
    "        \n",
    "        startindex = np.where(XQ == starttime)[0][0]\n",
    "        endindex = np.where(XQ == endtime)[0][0]\n",
    "            \n",
    "        temp = pd.DataFrame({'id':[s]*(endindex-startindex+1),\n",
    "                             't':XQ[startindex:endindex+1],\n",
    "                             'v':YQ[startindex:endindex+1]})       \n",
    "        \n",
    "        timeseries = pd.concat([timeseries,temp])\n",
    "    \n",
    "    outputfile = function+'_'+interptype+'_'+combotype+'.pkl'\n",
    "    print(time.strftime(\"%m/%d/%Y\"),time.strftime(\"%H:%M:%S\"),'Saving',outputfile)\n",
    "    timeseries.to_pickle(os.path.join('.',outputdir,outputfile))\n",
    "    \n",
    "    print(time.strftime(\"%m/%d/%Y\"),time.strftime(\"%H:%M:%S\"),'Done') \n",
    "    return timeseries"
   ]
  },
  {
   "cell_type": "code",
   "execution_count": 17,
   "metadata": {
    "collapsed": false
   },
   "outputs": [
    {
     "data": {
      "text/html": [
       "<div>\n",
       "<table border=\"1\" class=\"dataframe\">\n",
       "  <thead>\n",
       "    <tr style=\"text-align: right;\">\n",
       "      <th></th>\n",
       "      <th>id</th>\n",
       "      <th>t</th>\n",
       "      <th>v</th>\n",
       "    </tr>\n",
       "  </thead>\n",
       "  <tbody>\n",
       "    <tr>\n",
       "      <th>0</th>\n",
       "      <td>1a</td>\n",
       "      <td>55544529</td>\n",
       "      <td>0.063700</td>\n",
       "    </tr>\n",
       "    <tr>\n",
       "      <th>1</th>\n",
       "      <td>1a</td>\n",
       "      <td>55544606</td>\n",
       "      <td>0.088850</td>\n",
       "    </tr>\n",
       "    <tr>\n",
       "      <th>2</th>\n",
       "      <td>1a</td>\n",
       "      <td>55544610</td>\n",
       "      <td>0.082427</td>\n",
       "    </tr>\n",
       "    <tr>\n",
       "      <th>3</th>\n",
       "      <td>1a</td>\n",
       "      <td>55544612</td>\n",
       "      <td>0.104132</td>\n",
       "    </tr>\n",
       "    <tr>\n",
       "      <th>4</th>\n",
       "      <td>1a</td>\n",
       "      <td>55544617</td>\n",
       "      <td>0.149755</td>\n",
       "    </tr>\n",
       "  </tbody>\n",
       "</table>\n",
       "</div>"
      ],
      "text/plain": [
       "   id         t         v\n",
       "0  1a  55544529  0.063700\n",
       "1  1a  55544606  0.088850\n",
       "2  1a  55544610  0.082427\n",
       "3  1a  55544612  0.104132\n",
       "4  1a  55544617  0.149755"
      ]
     },
     "execution_count": 17,
     "metadata": {},
     "output_type": "execute_result"
    }
   ],
   "source": [
    "zalign = dframe[['id','t','zalign']].rename(columns={'zalign':'v'})\n",
    "zalign.head()"
   ]
  },
  {
   "cell_type": "code",
   "execution_count": 18,
   "metadata": {
    "collapsed": false
   },
   "outputs": [
    {
     "name": "stdout",
     "output_type": "stream",
     "text": [
      "11/08/2016 13:02:29 Running disco_interpolate linear\n",
      "11/08/2016 13:02:29 1a\n",
      "11/08/2016 13:02:30 1b\n",
      "11/08/2016 13:02:31 2a\n",
      "11/08/2016 13:02:32 2b\n",
      "11/08/2016 13:02:32 3a\n",
      "11/08/2016 13:02:33 3b\n",
      "11/08/2016 13:02:35 4a\n",
      "11/08/2016 13:02:36 4b\n",
      "11/08/2016 13:02:37 5b\n",
      "11/08/2016 13:02:38 6a\n",
      "11/08/2016 13:02:39 6b\n",
      "11/08/2016 13:02:41 Saving disco_interpolate_linear_zalign.pkl\n",
      "11/08/2016 13:02:53 Done\n",
      "11/08/2016 13:02:53 Running disco_interpolate nearest\n",
      "11/08/2016 13:02:53 1a\n",
      "11/08/2016 13:02:54 1b\n",
      "11/08/2016 13:02:55 2a\n",
      "11/08/2016 13:02:55 2b\n",
      "11/08/2016 13:02:56 3a\n",
      "11/08/2016 13:02:57 3b\n",
      "11/08/2016 13:02:58 4a\n",
      "11/08/2016 13:02:59 4b\n",
      "11/08/2016 13:03:00 5b\n",
      "11/08/2016 13:03:01 6a\n",
      "11/08/2016 13:03:02 6b\n",
      "11/08/2016 13:03:03 Saving disco_interpolate_nearest_zalign.pkl\n",
      "11/08/2016 13:03:17 Done\n",
      "11/08/2016 13:03:17 Running disco_interpolate cubic\n",
      "11/08/2016 13:03:18 1a\n",
      "11/08/2016 13:03:33 1b\n",
      "11/08/2016 13:03:47 2a\n",
      "11/08/2016 13:04:02 2b\n",
      "11/08/2016 13:04:17 3a\n",
      "11/08/2016 13:04:32 3b\n",
      "11/08/2016 13:04:47 4a\n",
      "11/08/2016 13:05:03 4b\n",
      "11/08/2016 13:05:18 5b\n",
      "11/08/2016 13:05:33 6a\n",
      "11/08/2016 13:05:51 6b\n",
      "11/08/2016 13:06:07 Saving disco_interpolate_cubic_zalign.pkl\n",
      "11/08/2016 13:06:21 Done\n"
     ]
    }
   ],
   "source": [
    "linear_zalign  = disco_interpolate(zalign,'zalign','', 'linear','15:25:44:580','16:02:05:830')\n",
    "nearest_zalign = disco_interpolate(zalign,'zalign','','nearest','15:25:44:580','16:02:05:830')\n",
    "cubic_zalign   = disco_interpolate(zalign,'zalign','',  'cubic','15:25:44:580','16:02:05:830')"
   ]
  },
  {
   "cell_type": "code",
   "execution_count": 19,
   "metadata": {
    "collapsed": false
   },
   "outputs": [
    {
     "data": {
      "text/html": [
       "<div>\n",
       "<table border=\"1\" class=\"dataframe\">\n",
       "  <thead>\n",
       "    <tr style=\"text-align: right;\">\n",
       "      <th></th>\n",
       "      <th>id</th>\n",
       "      <th>t</th>\n",
       "      <th>v</th>\n",
       "    </tr>\n",
       "  </thead>\n",
       "  <tbody>\n",
       "    <tr>\n",
       "      <th>0</th>\n",
       "      <td>1a</td>\n",
       "      <td>55544580</td>\n",
       "      <td>0.080358</td>\n",
       "    </tr>\n",
       "    <tr>\n",
       "      <th>1</th>\n",
       "      <td>1a</td>\n",
       "      <td>55544581</td>\n",
       "      <td>0.080684</td>\n",
       "    </tr>\n",
       "    <tr>\n",
       "      <th>2</th>\n",
       "      <td>1a</td>\n",
       "      <td>55544582</td>\n",
       "      <td>0.081011</td>\n",
       "    </tr>\n",
       "    <tr>\n",
       "      <th>3</th>\n",
       "      <td>1a</td>\n",
       "      <td>55544583</td>\n",
       "      <td>0.081338</td>\n",
       "    </tr>\n",
       "    <tr>\n",
       "      <th>4</th>\n",
       "      <td>1a</td>\n",
       "      <td>55544584</td>\n",
       "      <td>0.081664</td>\n",
       "    </tr>\n",
       "  </tbody>\n",
       "</table>\n",
       "</div>"
      ],
      "text/plain": [
       "   id         t         v\n",
       "0  1a  55544580  0.080358\n",
       "1  1a  55544581  0.080684\n",
       "2  1a  55544582  0.081011\n",
       "3  1a  55544583  0.081338\n",
       "4  1a  55544584  0.081664"
      ]
     },
     "execution_count": 19,
     "metadata": {},
     "output_type": "execute_result"
    }
   ],
   "source": [
    "linear_zalign.head()"
   ]
  },
  {
   "cell_type": "code",
   "execution_count": 20,
   "metadata": {
    "collapsed": false
   },
   "outputs": [
    {
     "data": {
      "text/html": [
       "<div>\n",
       "<table border=\"1\" class=\"dataframe\">\n",
       "  <thead>\n",
       "    <tr style=\"text-align: right;\">\n",
       "      <th></th>\n",
       "      <th>id</th>\n",
       "      <th>t</th>\n",
       "      <th>v</th>\n",
       "    </tr>\n",
       "  </thead>\n",
       "  <tbody>\n",
       "    <tr>\n",
       "      <th>0</th>\n",
       "      <td>1a</td>\n",
       "      <td>55544580</td>\n",
       "      <td>0.08885</td>\n",
       "    </tr>\n",
       "    <tr>\n",
       "      <th>1</th>\n",
       "      <td>1a</td>\n",
       "      <td>55544581</td>\n",
       "      <td>0.08885</td>\n",
       "    </tr>\n",
       "    <tr>\n",
       "      <th>2</th>\n",
       "      <td>1a</td>\n",
       "      <td>55544582</td>\n",
       "      <td>0.08885</td>\n",
       "    </tr>\n",
       "    <tr>\n",
       "      <th>3</th>\n",
       "      <td>1a</td>\n",
       "      <td>55544583</td>\n",
       "      <td>0.08885</td>\n",
       "    </tr>\n",
       "    <tr>\n",
       "      <th>4</th>\n",
       "      <td>1a</td>\n",
       "      <td>55544584</td>\n",
       "      <td>0.08885</td>\n",
       "    </tr>\n",
       "  </tbody>\n",
       "</table>\n",
       "</div>"
      ],
      "text/plain": [
       "   id         t        v\n",
       "0  1a  55544580  0.08885\n",
       "1  1a  55544581  0.08885\n",
       "2  1a  55544582  0.08885\n",
       "3  1a  55544583  0.08885\n",
       "4  1a  55544584  0.08885"
      ]
     },
     "execution_count": 20,
     "metadata": {},
     "output_type": "execute_result"
    }
   ],
   "source": [
    "nearest_zalign.head()"
   ]
  },
  {
   "cell_type": "code",
   "execution_count": 21,
   "metadata": {
    "collapsed": false
   },
   "outputs": [
    {
     "data": {
      "text/html": [
       "<div>\n",
       "<table border=\"1\" class=\"dataframe\">\n",
       "  <thead>\n",
       "    <tr style=\"text-align: right;\">\n",
       "      <th></th>\n",
       "      <th>id</th>\n",
       "      <th>t</th>\n",
       "      <th>v</th>\n",
       "    </tr>\n",
       "  </thead>\n",
       "  <tbody>\n",
       "    <tr>\n",
       "      <th>0</th>\n",
       "      <td>1a</td>\n",
       "      <td>55544580</td>\n",
       "      <td>0.087882</td>\n",
       "    </tr>\n",
       "    <tr>\n",
       "      <th>1</th>\n",
       "      <td>1a</td>\n",
       "      <td>55544581</td>\n",
       "      <td>0.087989</td>\n",
       "    </tr>\n",
       "    <tr>\n",
       "      <th>2</th>\n",
       "      <td>1a</td>\n",
       "      <td>55544582</td>\n",
       "      <td>0.088088</td>\n",
       "    </tr>\n",
       "    <tr>\n",
       "      <th>3</th>\n",
       "      <td>1a</td>\n",
       "      <td>55544583</td>\n",
       "      <td>0.088180</td>\n",
       "    </tr>\n",
       "    <tr>\n",
       "      <th>4</th>\n",
       "      <td>1a</td>\n",
       "      <td>55544584</td>\n",
       "      <td>0.088263</td>\n",
       "    </tr>\n",
       "  </tbody>\n",
       "</table>\n",
       "</div>"
      ],
      "text/plain": [
       "   id         t         v\n",
       "0  1a  55544580  0.087882\n",
       "1  1a  55544581  0.087989\n",
       "2  1a  55544582  0.088088\n",
       "3  1a  55544583  0.088180\n",
       "4  1a  55544584  0.088263"
      ]
     },
     "execution_count": 21,
     "metadata": {},
     "output_type": "execute_result"
    }
   ],
   "source": [
    "cubic_zalign.head()"
   ]
  },
  {
   "cell_type": "markdown",
   "metadata": {},
   "source": [
    "Line chart of the interpolated timeseries. (*Type:* linear)"
   ]
  },
  {
   "cell_type": "code",
   "execution_count": 2,
   "metadata": {
    "collapsed": false
   },
   "outputs": [],
   "source": [
    "# Load interpolated timeseries for subject\n",
    "subject = '1a'\n",
    "df = pd.read_pickle('disco_interpolate_linear_zalign.pkl')\n",
    "df = df[df.id==subject]"
   ]
  },
  {
   "cell_type": "code",
   "execution_count": 3,
   "metadata": {
    "collapsed": false
   },
   "outputs": [
    {
     "data": {
      "image/png": "[encoded data removed]",
      "text/plain": [
       "<matplotlib.figure.Figure at 0x1d08ce27978>"
      ]
     },
     "metadata": {},
     "output_type": "display_data"
    }
   ],
   "source": [
    "start,end = 55544580,57725830 # Session start and end times\n",
    "first,last = np.where(df['t']==start)[0][0],np.where(df['t']==end)[0][0]+1\n",
    "T = df['t'][first:last].values # Time\n",
    "V = df['v'][first:last].values # Values\n",
    "\n",
    "with sns.axes_style(\"whitegrid\"):\n",
    "    \n",
    "    fig = plt.figure(); plt.clf()\n",
    "    \n",
    "    plt.plot(T,V)     \n",
    "    \n",
    "    plt.axis([start,end,-2,2])    \n",
    "    plt.ticklabel_format(style='plain',axis='x')\n",
    "    \n",
    "    plt.xlabel(\"Timepoint (ms)\")\n",
    "    plt.ylabel(\"Acceleration (m/s^2)\")\n",
    "    plt.title(\"Subject \"+subject+\": Interpolated Accelerometer Data (Linear)\")\n",
    "    \n",
    "    plt.show()"
   ]
  },
  {
   "cell_type": "markdown",
   "metadata": {},
   "source": [
    "## Data downsampling"
   ]
  },
  {
   "cell_type": "markdown",
   "metadata": {},
   "source": [
    "Load interpolated timeseries."
   ]
  },
  {
   "cell_type": "code",
   "execution_count": 22,
   "metadata": {
    "collapsed": false
   },
   "outputs": [
    {
     "data": {
      "text/html": [
       "<div>\n",
       "<table border=\"1\" class=\"dataframe\">\n",
       "  <thead>\n",
       "    <tr style=\"text-align: right;\">\n",
       "      <th></th>\n",
       "      <th>id</th>\n",
       "      <th>t</th>\n",
       "      <th>v</th>\n",
       "    </tr>\n",
       "  </thead>\n",
       "  <tbody>\n",
       "    <tr>\n",
       "      <th>0</th>\n",
       "      <td>1a</td>\n",
       "      <td>55544580</td>\n",
       "      <td>0.080358</td>\n",
       "    </tr>\n",
       "    <tr>\n",
       "      <th>1</th>\n",
       "      <td>1a</td>\n",
       "      <td>55544581</td>\n",
       "      <td>0.080684</td>\n",
       "    </tr>\n",
       "    <tr>\n",
       "      <th>2</th>\n",
       "      <td>1a</td>\n",
       "      <td>55544582</td>\n",
       "      <td>0.081011</td>\n",
       "    </tr>\n",
       "    <tr>\n",
       "      <th>3</th>\n",
       "      <td>1a</td>\n",
       "      <td>55544583</td>\n",
       "      <td>0.081338</td>\n",
       "    </tr>\n",
       "    <tr>\n",
       "      <th>4</th>\n",
       "      <td>1a</td>\n",
       "      <td>55544584</td>\n",
       "      <td>0.081664</td>\n",
       "    </tr>\n",
       "  </tbody>\n",
       "</table>\n",
       "</div>"
      ],
      "text/plain": [
       "   id         t         v\n",
       "0  1a  55544580  0.080358\n",
       "1  1a  55544581  0.080684\n",
       "2  1a  55544582  0.081011\n",
       "3  1a  55544583  0.081338\n",
       "4  1a  55544584  0.081664"
      ]
     },
     "execution_count": 22,
     "metadata": {},
     "output_type": "execute_result"
    }
   ],
   "source": [
    "linear_zalign = pd.read_pickle('disco_interpolate_linear_zalign.pkl')\n",
    "linear_zalign.head()"
   ]
  },
  {
   "cell_type": "markdown",
   "metadata": {},
   "source": [
    "Downsample interpolated timeseries back to actual average sampling rate. (*Options:* average, decimate)"
   ]
  },
  {
   "cell_type": "code",
   "execution_count": 25,
   "metadata": {
    "collapsed": true
   },
   "outputs": [],
   "source": [
    "def disco_downsample(indata,intype,outdir,outtype,newrate):\n",
    "    ''' Downsamples timeseries data\n",
    "    indata = Input data table (id,t,v)\n",
    "    intype = ('linear','nearest','cubic') x ('vector','xalign','yalign','zalign')\n",
    "    outdir = Output data directory\n",
    "    outtype = Downsampling type ('average','decimate')\n",
    "        - 'average': Replace each set of N samples by their mean\n",
    "                  (Preserves temporal shape of waveform)\n",
    "        - 'decimate': Apply a low-pass filter before resampling\n",
    "                      (Preserves spectral information of waveform)\n",
    "    newrate = New sampling rate in ms\n",
    "        - e.g., ceil(mean of actual rate across Ss) = ceil(15.4120) = 16 ms\n",
    "    Returns: timeseries = Downsampled values (id,t,v) '''\n",
    "    \n",
    "    function = 'disco_downsample'\n",
    "    print(time.strftime(\"%m/%d/%Y\"),time.strftime(\"%H:%M:%S\"),'Running',function,outtype)\n",
    "    \n",
    "    subjects = indata.id.unique()\n",
    "    \n",
    "    timeseries = pd.DataFrame({})\n",
    "    for s in subjects:\n",
    "        \n",
    "        print(time.strftime(\"%m/%d/%Y\"),time.strftime(\"%H:%M:%S\"),s)\n",
    "        \n",
    "        # Detrend timeseries first    \n",
    "        det = sig.detrend(indata[indata.id==s].v.values) # Linear detrend\n",
    "\n",
    "        # Pad timeseries with mean of last window so length divisible by 'newrate'\n",
    "        # 'newrate' is rounded up from average sampling rate so not using a slightly faster sampling rate\n",
    "        padTS = np.zeros(int(newrate*np.ceil(len(det)/newrate)))\n",
    "        padTS[0:len(det)] = det\n",
    "        padRM = len(det) % newrate # Last window\n",
    "        padVL = len(padTS) - len(det) # Pad amount\n",
    "        padTS[len(det):len(padTS)] = np.repeat(np.mean(det[len(det)-padRM:len(det)]),padVL)\n",
    "\n",
    "        # Pad time information with additional milliseconds so length divisible by 'newrate'\n",
    "        msec = indata[indata.id==s].t.values\n",
    "        padMS = np.zeros(int(newrate*np.ceil(len(msec)/newrate)))\n",
    "        padMS[0:len(msec)] = msec\n",
    "        padVL = len(padMS) - len(msec) # Pad amount  \n",
    "        padMS[len(msec):len(padMS)] = np.arange(msec[-1]+1,msec[-1]+1+padVL)\n",
    "\n",
    "        # Mean timepoint for each new sample\n",
    "        newMS = np.reshape(padMS,(int(len(padMS)/newrate),newrate))\n",
    "        downMS = np.mean(newMS,axis=1)\n",
    "        \n",
    "        # Downsample timeseries\n",
    "        if outtype == 'average': # Preserves temporal shape of waveform\n",
    "            # Replace each set of of N (=newrate) samples by their mean\n",
    "            newTS = np.reshape(padTS,(int(len(padTS)/newrate),newrate))\n",
    "            downTS = np.mean(newTS,axis=1)        \n",
    "        elif outtype == 'decimate': # Preserves spectral information of waveform\n",
    "            # Resample at a lower rate after low-pass filtering (to prevent aliasing)\n",
    "            downTS = sig.decimate(padTS,newrate)\n",
    "        \n",
    "        temp = pd.DataFrame({'id':[s]*len(downTS),\n",
    "                             't':downMS,\n",
    "                             'v':downTS})       \n",
    "        \n",
    "        timeseries = pd.concat([timeseries,temp])\n",
    "    \n",
    "    outfile = function+'_'+outtype+'_'+intype+'.pkl'\n",
    "    print(time.strftime(\"%m/%d/%Y\"),time.strftime(\"%H:%M:%S\"),'Saving',outfile)\n",
    "    timeseries.to_pickle(os.path.join('.',outdir,outfile))\n",
    "    \n",
    "    print(time.strftime(\"%m/%d/%Y\"),time.strftime(\"%H:%M:%S\"),'Done') \n",
    "    return timeseries      "
   ]
  },
  {
   "cell_type": "code",
   "execution_count": 26,
   "metadata": {
    "collapsed": false
   },
   "outputs": [
    {
     "name": "stdout",
     "output_type": "stream",
     "text": [
      "11/08/2016 13:17:12 Running disco_downsample average\n",
      "11/08/2016 13:17:14 1a\n",
      "11/08/2016 13:17:18 1b\n",
      "11/08/2016 13:17:22 2a\n",
      "11/08/2016 13:17:26 2b\n",
      "11/08/2016 13:17:30 3a\n",
      "11/08/2016 13:17:34 3b\n",
      "11/08/2016 13:17:38 4a\n",
      "11/08/2016 13:17:42 4b\n",
      "11/08/2016 13:17:47 5b\n",
      "11/08/2016 13:17:51 6a\n",
      "11/08/2016 13:17:55 6b\n",
      "11/08/2016 13:17:59 Saving disco_downsample_average_linear_zalign.pkl\n",
      "11/08/2016 13:17:59 Done\n",
      "11/08/2016 13:18:00 Running disco_downsample decimate\n",
      "11/08/2016 13:18:01 1a\n",
      "11/08/2016 13:18:05 1b\n",
      "11/08/2016 13:18:09 2a\n",
      "11/08/2016 13:18:13 2b\n",
      "11/08/2016 13:18:18 3a\n",
      "11/08/2016 13:18:22 3b\n",
      "11/08/2016 13:18:26 4a\n",
      "11/08/2016 13:18:30 4b\n",
      "11/08/2016 13:18:34 5b\n",
      "11/08/2016 13:18:38 6a\n",
      "11/08/2016 13:18:42 6b\n",
      "11/08/2016 13:18:46 Saving disco_downsample_decimate_linear_zalign.pkl\n",
      "11/08/2016 13:18:47 Done\n"
     ]
    }
   ],
   "source": [
    "average_linear_zalign  = disco_downsample(linear_zalign,'linear_zalign','','average',int(np.ceil(15.4120)))\n",
    "decimate_linear_zalign = disco_downsample(linear_zalign,'linear_zalign','','decimate',int(np.ceil(15.4120)))"
   ]
  },
  {
   "cell_type": "code",
   "execution_count": 27,
   "metadata": {
    "collapsed": false
   },
   "outputs": [
    {
     "data": {
      "text/html": [
       "<div>\n",
       "<table border=\"1\" class=\"dataframe\">\n",
       "  <thead>\n",
       "    <tr style=\"text-align: right;\">\n",
       "      <th></th>\n",
       "      <th>id</th>\n",
       "      <th>t</th>\n",
       "      <th>v</th>\n",
       "    </tr>\n",
       "  </thead>\n",
       "  <tbody>\n",
       "    <tr>\n",
       "      <th>0</th>\n",
       "      <td>1a</td>\n",
       "      <td>55544587.5</td>\n",
       "      <td>0.096531</td>\n",
       "    </tr>\n",
       "    <tr>\n",
       "      <th>1</th>\n",
       "      <td>1a</td>\n",
       "      <td>55544603.5</td>\n",
       "      <td>0.100724</td>\n",
       "    </tr>\n",
       "    <tr>\n",
       "      <th>2</th>\n",
       "      <td>1a</td>\n",
       "      <td>55544619.5</td>\n",
       "      <td>0.186774</td>\n",
       "    </tr>\n",
       "    <tr>\n",
       "      <th>3</th>\n",
       "      <td>1a</td>\n",
       "      <td>55544635.5</td>\n",
       "      <td>0.215599</td>\n",
       "    </tr>\n",
       "    <tr>\n",
       "      <th>4</th>\n",
       "      <td>1a</td>\n",
       "      <td>55544651.5</td>\n",
       "      <td>0.203376</td>\n",
       "    </tr>\n",
       "  </tbody>\n",
       "</table>\n",
       "</div>"
      ],
      "text/plain": [
       "   id           t         v\n",
       "0  1a  55544587.5  0.096531\n",
       "1  1a  55544603.5  0.100724\n",
       "2  1a  55544619.5  0.186774\n",
       "3  1a  55544635.5  0.215599\n",
       "4  1a  55544651.5  0.203376"
      ]
     },
     "execution_count": 27,
     "metadata": {},
     "output_type": "execute_result"
    }
   ],
   "source": [
    "average_linear_zalign.head()"
   ]
  },
  {
   "cell_type": "code",
   "execution_count": 28,
   "metadata": {
    "collapsed": false
   },
   "outputs": [
    {
     "data": {
      "text/html": [
       "<div>\n",
       "<table border=\"1\" class=\"dataframe\">\n",
       "  <thead>\n",
       "    <tr style=\"text-align: right;\">\n",
       "      <th></th>\n",
       "      <th>id</th>\n",
       "      <th>t</th>\n",
       "      <th>v</th>\n",
       "    </tr>\n",
       "  </thead>\n",
       "  <tbody>\n",
       "    <tr>\n",
       "      <th>0</th>\n",
       "      <td>1a</td>\n",
       "      <td>55544587.5</td>\n",
       "      <td>8.542811e-12</td>\n",
       "    </tr>\n",
       "    <tr>\n",
       "      <th>1</th>\n",
       "      <td>1a</td>\n",
       "      <td>55544603.5</td>\n",
       "      <td>1.846869e-04</td>\n",
       "    </tr>\n",
       "    <tr>\n",
       "      <th>2</th>\n",
       "      <td>1a</td>\n",
       "      <td>55544619.5</td>\n",
       "      <td>1.369462e-02</td>\n",
       "    </tr>\n",
       "    <tr>\n",
       "      <th>3</th>\n",
       "      <td>1a</td>\n",
       "      <td>55544635.5</td>\n",
       "      <td>7.903322e-02</td>\n",
       "    </tr>\n",
       "    <tr>\n",
       "      <th>4</th>\n",
       "      <td>1a</td>\n",
       "      <td>55544651.5</td>\n",
       "      <td>1.256160e-01</td>\n",
       "    </tr>\n",
       "  </tbody>\n",
       "</table>\n",
       "</div>"
      ],
      "text/plain": [
       "   id           t             v\n",
       "0  1a  55544587.5  8.542811e-12\n",
       "1  1a  55544603.5  1.846869e-04\n",
       "2  1a  55544619.5  1.369462e-02\n",
       "3  1a  55544635.5  7.903322e-02\n",
       "4  1a  55544651.5  1.256160e-01"
      ]
     },
     "execution_count": 28,
     "metadata": {},
     "output_type": "execute_result"
    }
   ],
   "source": [
    "decimate_linear_zalign.head()"
   ]
  },
  {
   "cell_type": "markdown",
   "metadata": {},
   "source": [
    "Line chart of the downsampled timeseries. (*Type:* average)"
   ]
  },
  {
   "cell_type": "code",
   "execution_count": 2,
   "metadata": {
    "collapsed": false
   },
   "outputs": [],
   "source": [
    "# Load downsampled timeseries for subject\n",
    "subject = '1a'\n",
    "df = pd.read_pickle('disco_downsample_average_linear_zalign.pkl')\n",
    "df = df[df.id==subject]"
   ]
  },
  {
   "cell_type": "code",
   "execution_count": 3,
   "metadata": {
    "collapsed": false
   },
   "outputs": [
    {
     "data": {
      "image/png": "[encoded data removed]",
      "text/plain": [
       "<matplotlib.figure.Figure at 0x1e7e504b898>"
      ]
     },
     "metadata": {},
     "output_type": "display_data"
    }
   ],
   "source": [
    "start,end = 55544580,57725830 # Session start and end times\n",
    "first,last = np.where(df['t']>=start)[0][0],np.where(df['t']>=end)[0][-1]+1\n",
    "T = df['t'][first:last].values # Time\n",
    "V = df['v'][first:last].values # Values\n",
    "\n",
    "with sns.axes_style(\"whitegrid\"):\n",
    "    \n",
    "    fig = plt.figure(); plt.clf()\n",
    "    \n",
    "    plt.plot(T,V)     \n",
    "    \n",
    "    plt.axis([start,end,-2,2])    \n",
    "    plt.ticklabel_format(style='plain',axis='x')\n",
    "    \n",
    "    plt.xlabel(\"Timepoint (ms)\")\n",
    "    plt.ylabel(\"Acceleration (m/s^2)\")\n",
    "    plt.title(\"Subject \"+subject+\": Downsampled Accelerometer Data (Average)\")\n",
    "    \n",
    "    plt.show()"
   ]
  },
  {
   "cell_type": "markdown",
   "metadata": {},
   "source": [
    "## Wavelet decomposition"
   ]
  },
  {
   "cell_type": "markdown",
   "metadata": {},
   "source": [
    "Load downsampled timeseries."
   ]
  },
  {
   "cell_type": "code",
   "execution_count": 29,
   "metadata": {
    "collapsed": false
   },
   "outputs": [
    {
     "data": {
      "text/html": [
       "<div>\n",
       "<table border=\"1\" class=\"dataframe\">\n",
       "  <thead>\n",
       "    <tr style=\"text-align: right;\">\n",
       "      <th></th>\n",
       "      <th>id</th>\n",
       "      <th>t</th>\n",
       "      <th>v</th>\n",
       "    </tr>\n",
       "  </thead>\n",
       "  <tbody>\n",
       "    <tr>\n",
       "      <th>0</th>\n",
       "      <td>1a</td>\n",
       "      <td>55544587.5</td>\n",
       "      <td>0.096531</td>\n",
       "    </tr>\n",
       "    <tr>\n",
       "      <th>1</th>\n",
       "      <td>1a</td>\n",
       "      <td>55544603.5</td>\n",
       "      <td>0.100724</td>\n",
       "    </tr>\n",
       "    <tr>\n",
       "      <th>2</th>\n",
       "      <td>1a</td>\n",
       "      <td>55544619.5</td>\n",
       "      <td>0.186774</td>\n",
       "    </tr>\n",
       "    <tr>\n",
       "      <th>3</th>\n",
       "      <td>1a</td>\n",
       "      <td>55544635.5</td>\n",
       "      <td>0.215599</td>\n",
       "    </tr>\n",
       "    <tr>\n",
       "      <th>4</th>\n",
       "      <td>1a</td>\n",
       "      <td>55544651.5</td>\n",
       "      <td>0.203376</td>\n",
       "    </tr>\n",
       "  </tbody>\n",
       "</table>\n",
       "</div>"
      ],
      "text/plain": [
       "   id           t         v\n",
       "0  1a  55544587.5  0.096531\n",
       "1  1a  55544603.5  0.100724\n",
       "2  1a  55544619.5  0.186774\n",
       "3  1a  55544635.5  0.215599\n",
       "4  1a  55544651.5  0.203376"
      ]
     },
     "execution_count": 29,
     "metadata": {},
     "output_type": "execute_result"
    }
   ],
   "source": [
    "average_linear_zalign = pd.read_pickle('disco_downsample_average_linear_zalign.pkl')\n",
    "average_linear_zalign.head()"
   ]
  },
  {
   "cell_type": "markdown",
   "metadata": {},
   "source": [
    "Wavelet decomposition of downsampled timeseries. (*Options:* coif1/2/3, db2/4/6, sym2/4/6)"
   ]
  },
  {
   "cell_type": "code",
   "execution_count": 177,
   "metadata": {
    "collapsed": true
   },
   "outputs": [],
   "source": [
    "def disco_decompose(indata,intype,outdir,outtype):\n",
    "    ''' Wavelet decomposition of timeseries data\n",
    "    indata = Input data table (id,t,v)\n",
    "    intype = ('ave','dec') x ('lin','nea','cub') x ('vec','xal','yal','zal')\n",
    "    outdir = Output data directory\n",
    "    outtype = Wavelet to use (coif1/3/5,db2/4/6,sym2/4/6)\n",
    "    Returns: timeseries = Decomposed values (id,t,v0,v1...vn) '''\n",
    "    \n",
    "    function = 'disco_decompose'\n",
    "    print(time.strftime(\"%m/%d/%Y\"),time.strftime(\"%H:%M:%S\"),'Running',function,outtype)\n",
    "    \n",
    "    subjects = indata.id.unique()\n",
    "    \n",
    "    timeseries = pd.DataFrame({})\n",
    "    for s in subjects:\n",
    "        \n",
    "        print(time.strftime(\"%m/%d/%Y\"),time.strftime(\"%H:%M:%S\"),s)\n",
    "\n",
    "        # Number of levels in wavelet transformation\n",
    "        # levels = floor(log2(length(old{1,1}(:,1)))); \n",
    "\n",
    "        # modwt: Maximal overlap discrete wavelet transform\n",
    "        # i.e., Stationary wavelet transform (SWT)\n",
    "        # W = modwt(X,WNAME): modwt of a signal X using the wavelet WNAME\n",
    "        # W: LEV+1-by-N matrix of wavelet coeffs & final-level scaling coeffs\n",
    "        # LEV: Level of the modwt\n",
    "        # m-th row: Wavelet (detail) coefficients for scale 2^m\n",
    "        # LEV+1-th row: Scaling coefficients for scale 2^LEV\n",
    "\n",
    "        # imodwt: Inverse maximal overlap discrete wavelet transform\n",
    "        # R = imodwt(W,Lo,Hi): Reconstructs signal using scaling filter Lo & wavelet filter Hi\n",
    "        \n",
    "        # pywt.swt from PyWavelets only works for input length divisible by 2**level\n",
    "        # Defeats the purpose of MODWT, which is supposed to be able to take input of any length\n",
    "        \n",
    "        # modwt_transform and inverse_modwt_transform from PyMultiscale\n",
    "        # Looks like a decent alternative, but unable to run Cython code\n",
    "        \n",
    "        D = indata[indata.id==s].v.values # Timeseries data\n",
    "        D = sp.stats.zscore(D) # Normalization: mean = 0, variance = 1\n",
    "        \n",
    "        lev = int(np.floor(np.log2(len(D)))) # Maximum number of levels\n",
    "        rem = int(len(D) % 2**lev) # Samples to remove so divisible by 2^levels        \n",
    "        W = pywt.swt(D[:-rem],outtype) # Wavelet coefficients\n",
    "        \n",
    "        R = {}\n",
    "        for L in range(lev):            \n",
    "            R['L'+str(L).zfill(2)] = pywt.iswt([W[lev-L-1]],outtype) # Reconstructed signal at each level        \n",
    "        R = pd.DataFrame(R)\n",
    "        \n",
    "        temp = pd.DataFrame({'id':indata[indata.id==s].id.values[:-rem],\n",
    "                             't':indata[indata.id==s].t.values[:-rem]})\n",
    "        temp = pd.concat([temp,R],axis=1)\n",
    "        \n",
    "        timeseries = pd.concat([timeseries,temp])\n",
    "    \n",
    "    outfile = function+'_'+outtype+'_'+intype+'.pkl'\n",
    "    print(time.strftime(\"%m/%d/%Y\"),time.strftime(\"%H:%M:%S\"),'Saving',outfile)\n",
    "    timeseries.to_pickle(os.path.join('.',outdir,outfile))\n",
    "    \n",
    "    print(time.strftime(\"%m/%d/%Y\"),time.strftime(\"%H:%M:%S\"),'Done') \n",
    "    return timeseries   "
   ]
  },
  {
   "cell_type": "code",
   "execution_count": 178,
   "metadata": {
    "collapsed": false
   },
   "outputs": [
    {
     "name": "stdout",
     "output_type": "stream",
     "text": [
      "11/08/2016 22:27:46 Running disco_decompose coif1\n",
      "11/08/2016 22:27:46 1a\n",
      "11/08/2016 22:28:55 1b\n",
      "11/08/2016 22:30:04 2a\n",
      "11/08/2016 22:31:13 2b\n",
      "11/08/2016 22:32:22 3a\n",
      "11/08/2016 22:33:31 3b\n",
      "11/08/2016 22:34:40 4a\n",
      "11/08/2016 22:35:49 4b\n",
      "11/08/2016 22:36:59 5b\n",
      "11/08/2016 22:38:08 6a\n",
      "11/08/2016 22:39:17 6b\n",
      "11/08/2016 22:40:26 Saving disco_decompose_coif1_average_linear_zalign.pkl\n",
      "11/08/2016 22:40:30 Done\n",
      "11/08/2016 22:40:30 Running disco_decompose sym4\n",
      "11/08/2016 22:40:30 1a\n",
      "11/08/2016 22:42:18 1b\n",
      "11/08/2016 22:44:07 2a\n",
      "11/08/2016 22:45:54 2b\n",
      "11/08/2016 22:47:44 3a\n",
      "11/08/2016 22:49:32 3b\n",
      "11/08/2016 22:51:20 4a\n",
      "11/08/2016 22:53:09 4b\n",
      "11/08/2016 22:54:57 5b\n",
      "11/08/2016 22:56:45 6a\n",
      "11/08/2016 22:58:33 6b\n",
      "11/08/2016 23:00:22 Saving disco_decompose_sym4_average_linear_zalign.pkl\n",
      "11/08/2016 23:00:26 Done\n",
      "11/08/2016 23:00:26 Running disco_decompose db6\n",
      "11/08/2016 23:00:26 1a\n",
      "11/08/2016 23:03:38 1b\n",
      "11/08/2016 23:06:54 2a\n",
      "11/08/2016 23:10:07 2b\n",
      "11/08/2016 23:13:20 3a\n",
      "11/08/2016 23:16:40 3b\n",
      "11/08/2016 23:19:52 4a\n",
      "11/08/2016 23:23:06 4b\n",
      "11/08/2016 23:26:31 5b\n",
      "11/08/2016 23:29:54 6a\n",
      "11/08/2016 23:33:15 6b\n",
      "11/08/2016 23:36:39 Saving disco_decompose_db6_average_linear_zalign.pkl\n",
      "11/08/2016 23:36:47 Done\n"
     ]
    }
   ],
   "source": [
    "coif1_average_linear_zalign  = disco_decompose(average_linear_zalign,'average_linear_zalign','','coif1')\n",
    "sym4_average_linear_zalign   = disco_decompose(average_linear_zalign,'average_linear_zalign','','sym4')\n",
    "db6_average_linear_zalign    = disco_decompose(average_linear_zalign,'average_linear_zalign','','db6')"
   ]
  },
  {
   "cell_type": "code",
   "execution_count": 179,
   "metadata": {
    "collapsed": false
   },
   "outputs": [
    {
     "data": {
      "text/html": [
       "<div>\n",
       "<table border=\"1\" class=\"dataframe\">\n",
       "  <thead>\n",
       "    <tr style=\"text-align: right;\">\n",
       "      <th></th>\n",
       "      <th>id</th>\n",
       "      <th>t</th>\n",
       "      <th>L00</th>\n",
       "      <th>L01</th>\n",
       "      <th>L02</th>\n",
       "      <th>L03</th>\n",
       "      <th>L04</th>\n",
       "      <th>L05</th>\n",
       "      <th>L06</th>\n",
       "      <th>L07</th>\n",
       "      <th>L08</th>\n",
       "      <th>L09</th>\n",
       "      <th>L10</th>\n",
       "      <th>L11</th>\n",
       "      <th>L12</th>\n",
       "      <th>L13</th>\n",
       "      <th>L14</th>\n",
       "      <th>L15</th>\n",
       "      <th>L16</th>\n",
       "    </tr>\n",
       "  </thead>\n",
       "  <tbody>\n",
       "    <tr>\n",
       "      <th>0</th>\n",
       "      <td>1a</td>\n",
       "      <td>55544587.5</td>\n",
       "      <td>0.437819</td>\n",
       "      <td>0.363623</td>\n",
       "      <td>0.750461</td>\n",
       "      <td>0.706682</td>\n",
       "      <td>0.595032</td>\n",
       "      <td>1.382487</td>\n",
       "      <td>1.856779</td>\n",
       "      <td>-1.264673</td>\n",
       "      <td>-1.554573</td>\n",
       "      <td>-0.832260</td>\n",
       "      <td>0.025133</td>\n",
       "      <td>1.238817</td>\n",
       "      <td>3.034769</td>\n",
       "      <td>-6.937689</td>\n",
       "      <td>1.216199</td>\n",
       "      <td>3.843380</td>\n",
       "      <td>-3.213427</td>\n",
       "    </tr>\n",
       "    <tr>\n",
       "      <th>1</th>\n",
       "      <td>1a</td>\n",
       "      <td>55544603.5</td>\n",
       "      <td>0.456833</td>\n",
       "      <td>0.755834</td>\n",
       "      <td>1.077211</td>\n",
       "      <td>0.763299</td>\n",
       "      <td>0.679155</td>\n",
       "      <td>1.311234</td>\n",
       "      <td>1.873680</td>\n",
       "      <td>-1.247859</td>\n",
       "      <td>-1.545647</td>\n",
       "      <td>-0.847035</td>\n",
       "      <td>0.015576</td>\n",
       "      <td>1.231296</td>\n",
       "      <td>3.022003</td>\n",
       "      <td>-6.938942</td>\n",
       "      <td>1.215734</td>\n",
       "      <td>3.843811</td>\n",
       "      <td>-3.213433</td>\n",
       "    </tr>\n",
       "    <tr>\n",
       "      <th>2</th>\n",
       "      <td>1a</td>\n",
       "      <td>55544619.5</td>\n",
       "      <td>0.847117</td>\n",
       "      <td>1.148380</td>\n",
       "      <td>1.277645</td>\n",
       "      <td>0.878457</td>\n",
       "      <td>0.779679</td>\n",
       "      <td>1.218174</td>\n",
       "      <td>1.890706</td>\n",
       "      <td>-1.227848</td>\n",
       "      <td>-1.536669</td>\n",
       "      <td>-0.861238</td>\n",
       "      <td>0.006042</td>\n",
       "      <td>1.223817</td>\n",
       "      <td>3.009260</td>\n",
       "      <td>-6.940178</td>\n",
       "      <td>1.215276</td>\n",
       "      <td>3.844243</td>\n",
       "      <td>-3.213430</td>\n",
       "    </tr>\n",
       "    <tr>\n",
       "      <th>3</th>\n",
       "      <td>1a</td>\n",
       "      <td>55544635.5</td>\n",
       "      <td>0.977855</td>\n",
       "      <td>1.293980</td>\n",
       "      <td>1.357916</td>\n",
       "      <td>0.956800</td>\n",
       "      <td>0.835278</td>\n",
       "      <td>1.108216</td>\n",
       "      <td>1.900371</td>\n",
       "      <td>-1.208144</td>\n",
       "      <td>-1.530187</td>\n",
       "      <td>-0.876722</td>\n",
       "      <td>-0.004249</td>\n",
       "      <td>1.216065</td>\n",
       "      <td>2.996350</td>\n",
       "      <td>-6.941457</td>\n",
       "      <td>1.214779</td>\n",
       "      <td>3.844666</td>\n",
       "      <td>-3.213433</td>\n",
       "    </tr>\n",
       "    <tr>\n",
       "      <th>4</th>\n",
       "      <td>1a</td>\n",
       "      <td>55544651.5</td>\n",
       "      <td>0.922416</td>\n",
       "      <td>1.334348</td>\n",
       "      <td>1.350304</td>\n",
       "      <td>0.956692</td>\n",
       "      <td>0.856806</td>\n",
       "      <td>0.981870</td>\n",
       "      <td>1.905511</td>\n",
       "      <td>-1.189794</td>\n",
       "      <td>-1.525169</td>\n",
       "      <td>-0.892329</td>\n",
       "      <td>-0.014608</td>\n",
       "      <td>1.208243</td>\n",
       "      <td>2.983409</td>\n",
       "      <td>-6.942738</td>\n",
       "      <td>1.214269</td>\n",
       "      <td>3.845101</td>\n",
       "      <td>-3.213432</td>\n",
       "    </tr>\n",
       "  </tbody>\n",
       "</table>\n",
       "</div>"
      ],
      "text/plain": [
       "   id           t       L00       L01       L02       L03       L04       L05  \\\n",
       "0  1a  55544587.5  0.437819  0.363623  0.750461  0.706682  0.595032  1.382487   \n",
       "1  1a  55544603.5  0.456833  0.755834  1.077211  0.763299  0.679155  1.311234   \n",
       "2  1a  55544619.5  0.847117  1.148380  1.277645  0.878457  0.779679  1.218174   \n",
       "3  1a  55544635.5  0.977855  1.293980  1.357916  0.956800  0.835278  1.108216   \n",
       "4  1a  55544651.5  0.922416  1.334348  1.350304  0.956692  0.856806  0.981870   \n",
       "\n",
       "        L06       L07       L08       L09       L10       L11       L12  \\\n",
       "0  1.856779 -1.264673 -1.554573 -0.832260  0.025133  1.238817  3.034769   \n",
       "1  1.873680 -1.247859 -1.545647 -0.847035  0.015576  1.231296  3.022003   \n",
       "2  1.890706 -1.227848 -1.536669 -0.861238  0.006042  1.223817  3.009260   \n",
       "3  1.900371 -1.208144 -1.530187 -0.876722 -0.004249  1.216065  2.996350   \n",
       "4  1.905511 -1.189794 -1.525169 -0.892329 -0.014608  1.208243  2.983409   \n",
       "\n",
       "        L13       L14       L15       L16  \n",
       "0 -6.937689  1.216199  3.843380 -3.213427  \n",
       "1 -6.938942  1.215734  3.843811 -3.213433  \n",
       "2 -6.940178  1.215276  3.844243 -3.213430  \n",
       "3 -6.941457  1.214779  3.844666 -3.213433  \n",
       "4 -6.942738  1.214269  3.845101 -3.213432  "
      ]
     },
     "execution_count": 179,
     "metadata": {},
     "output_type": "execute_result"
    }
   ],
   "source": [
    "coif1_average_linear_zalign.head()"
   ]
  },
  {
   "cell_type": "code",
   "execution_count": 180,
   "metadata": {
    "collapsed": false
   },
   "outputs": [
    {
     "data": {
      "text/html": [
       "<div>\n",
       "<table border=\"1\" class=\"dataframe\">\n",
       "  <thead>\n",
       "    <tr style=\"text-align: right;\">\n",
       "      <th></th>\n",
       "      <th>id</th>\n",
       "      <th>t</th>\n",
       "      <th>L00</th>\n",
       "      <th>L01</th>\n",
       "      <th>L02</th>\n",
       "      <th>L03</th>\n",
       "      <th>L04</th>\n",
       "      <th>L05</th>\n",
       "      <th>L06</th>\n",
       "      <th>L07</th>\n",
       "      <th>L08</th>\n",
       "      <th>L09</th>\n",
       "      <th>L10</th>\n",
       "      <th>L11</th>\n",
       "      <th>L12</th>\n",
       "      <th>L13</th>\n",
       "      <th>L14</th>\n",
       "      <th>L15</th>\n",
       "      <th>L16</th>\n",
       "    </tr>\n",
       "  </thead>\n",
       "  <tbody>\n",
       "    <tr>\n",
       "      <th>0</th>\n",
       "      <td>1a</td>\n",
       "      <td>55544587.5</td>\n",
       "      <td>0.437819</td>\n",
       "      <td>1.250944</td>\n",
       "      <td>1.055379</td>\n",
       "      <td>0.451627</td>\n",
       "      <td>0.053883</td>\n",
       "      <td>-1.507825</td>\n",
       "      <td>-1.486019</td>\n",
       "      <td>0.873301</td>\n",
       "      <td>1.157404</td>\n",
       "      <td>-4.581644</td>\n",
       "      <td>-4.957439</td>\n",
       "      <td>-22.533522</td>\n",
       "      <td>-23.453973</td>\n",
       "      <td>27.168741</td>\n",
       "      <td>20.807763</td>\n",
       "      <td>-14.849183</td>\n",
       "      <td>-3.21343</td>\n",
       "    </tr>\n",
       "    <tr>\n",
       "      <th>1</th>\n",
       "      <td>1a</td>\n",
       "      <td>55544603.5</td>\n",
       "      <td>0.456833</td>\n",
       "      <td>1.399894</td>\n",
       "      <td>0.807249</td>\n",
       "      <td>0.425587</td>\n",
       "      <td>-0.052548</td>\n",
       "      <td>-1.473509</td>\n",
       "      <td>-1.500158</td>\n",
       "      <td>0.894372</td>\n",
       "      <td>1.141550</td>\n",
       "      <td>-4.582942</td>\n",
       "      <td>-4.961307</td>\n",
       "      <td>-22.536188</td>\n",
       "      <td>-23.448745</td>\n",
       "      <td>27.172373</td>\n",
       "      <td>20.807739</td>\n",
       "      <td>-14.849832</td>\n",
       "      <td>-3.21343</td>\n",
       "    </tr>\n",
       "    <tr>\n",
       "      <th>2</th>\n",
       "      <td>1a</td>\n",
       "      <td>55544619.5</td>\n",
       "      <td>0.847117</td>\n",
       "      <td>1.413463</td>\n",
       "      <td>0.524951</td>\n",
       "      <td>0.431011</td>\n",
       "      <td>-0.159814</td>\n",
       "      <td>-1.435229</td>\n",
       "      <td>-1.514544</td>\n",
       "      <td>0.915735</td>\n",
       "      <td>1.125594</td>\n",
       "      <td>-4.584216</td>\n",
       "      <td>-4.965187</td>\n",
       "      <td>-22.538852</td>\n",
       "      <td>-23.443516</td>\n",
       "      <td>27.176003</td>\n",
       "      <td>20.807716</td>\n",
       "      <td>-14.850480</td>\n",
       "      <td>-3.21343</td>\n",
       "    </tr>\n",
       "    <tr>\n",
       "      <th>3</th>\n",
       "      <td>1a</td>\n",
       "      <td>55544635.5</td>\n",
       "      <td>0.977855</td>\n",
       "      <td>1.114347</td>\n",
       "      <td>0.265457</td>\n",
       "      <td>0.451296</td>\n",
       "      <td>-0.268670</td>\n",
       "      <td>-1.391796</td>\n",
       "      <td>-1.528887</td>\n",
       "      <td>0.937424</td>\n",
       "      <td>1.109524</td>\n",
       "      <td>-4.585468</td>\n",
       "      <td>-4.969079</td>\n",
       "      <td>-22.541515</td>\n",
       "      <td>-23.438288</td>\n",
       "      <td>27.179633</td>\n",
       "      <td>20.807693</td>\n",
       "      <td>-14.851128</td>\n",
       "      <td>-3.21343</td>\n",
       "    </tr>\n",
       "    <tr>\n",
       "      <th>4</th>\n",
       "      <td>1a</td>\n",
       "      <td>55544651.5</td>\n",
       "      <td>0.922416</td>\n",
       "      <td>0.729264</td>\n",
       "      <td>0.052103</td>\n",
       "      <td>0.468701</td>\n",
       "      <td>-0.375418</td>\n",
       "      <td>-1.343825</td>\n",
       "      <td>-1.542602</td>\n",
       "      <td>0.959426</td>\n",
       "      <td>1.093410</td>\n",
       "      <td>-4.586686</td>\n",
       "      <td>-4.972977</td>\n",
       "      <td>-22.544175</td>\n",
       "      <td>-23.433059</td>\n",
       "      <td>27.183262</td>\n",
       "      <td>20.807671</td>\n",
       "      <td>-14.851776</td>\n",
       "      <td>-3.21343</td>\n",
       "    </tr>\n",
       "  </tbody>\n",
       "</table>\n",
       "</div>"
      ],
      "text/plain": [
       "   id           t       L00       L01       L02       L03       L04       L05  \\\n",
       "0  1a  55544587.5  0.437819  1.250944  1.055379  0.451627  0.053883 -1.507825   \n",
       "1  1a  55544603.5  0.456833  1.399894  0.807249  0.425587 -0.052548 -1.473509   \n",
       "2  1a  55544619.5  0.847117  1.413463  0.524951  0.431011 -0.159814 -1.435229   \n",
       "3  1a  55544635.5  0.977855  1.114347  0.265457  0.451296 -0.268670 -1.391796   \n",
       "4  1a  55544651.5  0.922416  0.729264  0.052103  0.468701 -0.375418 -1.343825   \n",
       "\n",
       "        L06       L07       L08       L09       L10        L11        L12  \\\n",
       "0 -1.486019  0.873301  1.157404 -4.581644 -4.957439 -22.533522 -23.453973   \n",
       "1 -1.500158  0.894372  1.141550 -4.582942 -4.961307 -22.536188 -23.448745   \n",
       "2 -1.514544  0.915735  1.125594 -4.584216 -4.965187 -22.538852 -23.443516   \n",
       "3 -1.528887  0.937424  1.109524 -4.585468 -4.969079 -22.541515 -23.438288   \n",
       "4 -1.542602  0.959426  1.093410 -4.586686 -4.972977 -22.544175 -23.433059   \n",
       "\n",
       "         L13        L14        L15      L16  \n",
       "0  27.168741  20.807763 -14.849183 -3.21343  \n",
       "1  27.172373  20.807739 -14.849832 -3.21343  \n",
       "2  27.176003  20.807716 -14.850480 -3.21343  \n",
       "3  27.179633  20.807693 -14.851128 -3.21343  \n",
       "4  27.183262  20.807671 -14.851776 -3.21343  "
      ]
     },
     "execution_count": 180,
     "metadata": {},
     "output_type": "execute_result"
    }
   ],
   "source": [
    "sym4_average_linear_zalign.head()"
   ]
  },
  {
   "cell_type": "code",
   "execution_count": 181,
   "metadata": {
    "collapsed": false
   },
   "outputs": [
    {
     "data": {
      "text/html": [
       "<div>\n",
       "<table border=\"1\" class=\"dataframe\">\n",
       "  <thead>\n",
       "    <tr style=\"text-align: right;\">\n",
       "      <th></th>\n",
       "      <th>id</th>\n",
       "      <th>t</th>\n",
       "      <th>L00</th>\n",
       "      <th>L01</th>\n",
       "      <th>L02</th>\n",
       "      <th>L03</th>\n",
       "      <th>L04</th>\n",
       "      <th>L05</th>\n",
       "      <th>L06</th>\n",
       "      <th>L07</th>\n",
       "      <th>L08</th>\n",
       "      <th>L09</th>\n",
       "      <th>L10</th>\n",
       "      <th>L11</th>\n",
       "      <th>L12</th>\n",
       "      <th>L13</th>\n",
       "      <th>L14</th>\n",
       "      <th>L15</th>\n",
       "      <th>L16</th>\n",
       "    </tr>\n",
       "  </thead>\n",
       "  <tbody>\n",
       "    <tr>\n",
       "      <th>0</th>\n",
       "      <td>1a</td>\n",
       "      <td>55544587.5</td>\n",
       "      <td>0.437819</td>\n",
       "      <td>-0.236594</td>\n",
       "      <td>0.514791</td>\n",
       "      <td>3.993763</td>\n",
       "      <td>-7.875763</td>\n",
       "      <td>-0.190633</td>\n",
       "      <td>-1.304937</td>\n",
       "      <td>12.622744</td>\n",
       "      <td>11.831024</td>\n",
       "      <td>10.384148</td>\n",
       "      <td>16.777759</td>\n",
       "      <td>-12.643656</td>\n",
       "      <td>-6.406916</td>\n",
       "      <td>-22.400745</td>\n",
       "      <td>15.721125</td>\n",
       "      <td>9.887548</td>\n",
       "      <td>-3.21343</td>\n",
       "    </tr>\n",
       "    <tr>\n",
       "      <th>1</th>\n",
       "      <td>1a</td>\n",
       "      <td>55544603.5</td>\n",
       "      <td>0.456833</td>\n",
       "      <td>-0.187709</td>\n",
       "      <td>0.503053</td>\n",
       "      <td>3.834404</td>\n",
       "      <td>-7.785364</td>\n",
       "      <td>-0.114232</td>\n",
       "      <td>-1.249157</td>\n",
       "      <td>12.585242</td>\n",
       "      <td>11.815590</td>\n",
       "      <td>10.345099</td>\n",
       "      <td>16.781789</td>\n",
       "      <td>-12.659487</td>\n",
       "      <td>-6.405822</td>\n",
       "      <td>-22.401695</td>\n",
       "      <td>15.722296</td>\n",
       "      <td>9.886624</td>\n",
       "      <td>-3.21343</td>\n",
       "    </tr>\n",
       "    <tr>\n",
       "      <th>2</th>\n",
       "      <td>1a</td>\n",
       "      <td>55544619.5</td>\n",
       "      <td>0.847117</td>\n",
       "      <td>-0.358095</td>\n",
       "      <td>0.499447</td>\n",
       "      <td>3.673776</td>\n",
       "      <td>-7.675673</td>\n",
       "      <td>-0.039270</td>\n",
       "      <td>-1.192057</td>\n",
       "      <td>12.546716</td>\n",
       "      <td>11.800023</td>\n",
       "      <td>10.306066</td>\n",
       "      <td>16.785812</td>\n",
       "      <td>-12.675318</td>\n",
       "      <td>-6.404726</td>\n",
       "      <td>-22.402645</td>\n",
       "      <td>15.723468</td>\n",
       "      <td>9.885699</td>\n",
       "      <td>-3.21343</td>\n",
       "    </tr>\n",
       "    <tr>\n",
       "      <th>3</th>\n",
       "      <td>1a</td>\n",
       "      <td>55544635.5</td>\n",
       "      <td>0.977855</td>\n",
       "      <td>-0.722347</td>\n",
       "      <td>0.514644</td>\n",
       "      <td>3.511521</td>\n",
       "      <td>-7.546513</td>\n",
       "      <td>0.034239</td>\n",
       "      <td>-1.133693</td>\n",
       "      <td>12.507159</td>\n",
       "      <td>11.784324</td>\n",
       "      <td>10.267049</td>\n",
       "      <td>16.789831</td>\n",
       "      <td>-12.691149</td>\n",
       "      <td>-6.403629</td>\n",
       "      <td>-22.403595</td>\n",
       "      <td>15.724639</td>\n",
       "      <td>9.884775</td>\n",
       "      <td>-3.21343</td>\n",
       "    </tr>\n",
       "    <tr>\n",
       "      <th>4</th>\n",
       "      <td>1a</td>\n",
       "      <td>55544651.5</td>\n",
       "      <td>0.922416</td>\n",
       "      <td>-0.691024</td>\n",
       "      <td>0.502628</td>\n",
       "      <td>3.352949</td>\n",
       "      <td>-7.396301</td>\n",
       "      <td>0.106189</td>\n",
       "      <td>-1.074164</td>\n",
       "      <td>12.466567</td>\n",
       "      <td>11.768490</td>\n",
       "      <td>10.228046</td>\n",
       "      <td>16.793844</td>\n",
       "      <td>-12.706981</td>\n",
       "      <td>-6.402530</td>\n",
       "      <td>-22.404545</td>\n",
       "      <td>15.725811</td>\n",
       "      <td>9.883851</td>\n",
       "      <td>-3.21343</td>\n",
       "    </tr>\n",
       "  </tbody>\n",
       "</table>\n",
       "</div>"
      ],
      "text/plain": [
       "   id           t       L00       L01       L02       L03       L04       L05  \\\n",
       "0  1a  55544587.5  0.437819 -0.236594  0.514791  3.993763 -7.875763 -0.190633   \n",
       "1  1a  55544603.5  0.456833 -0.187709  0.503053  3.834404 -7.785364 -0.114232   \n",
       "2  1a  55544619.5  0.847117 -0.358095  0.499447  3.673776 -7.675673 -0.039270   \n",
       "3  1a  55544635.5  0.977855 -0.722347  0.514644  3.511521 -7.546513  0.034239   \n",
       "4  1a  55544651.5  0.922416 -0.691024  0.502628  3.352949 -7.396301  0.106189   \n",
       "\n",
       "        L06        L07        L08        L09        L10        L11       L12  \\\n",
       "0 -1.304937  12.622744  11.831024  10.384148  16.777759 -12.643656 -6.406916   \n",
       "1 -1.249157  12.585242  11.815590  10.345099  16.781789 -12.659487 -6.405822   \n",
       "2 -1.192057  12.546716  11.800023  10.306066  16.785812 -12.675318 -6.404726   \n",
       "3 -1.133693  12.507159  11.784324  10.267049  16.789831 -12.691149 -6.403629   \n",
       "4 -1.074164  12.466567  11.768490  10.228046  16.793844 -12.706981 -6.402530   \n",
       "\n",
       "         L13        L14       L15      L16  \n",
       "0 -22.400745  15.721125  9.887548 -3.21343  \n",
       "1 -22.401695  15.722296  9.886624 -3.21343  \n",
       "2 -22.402645  15.723468  9.885699 -3.21343  \n",
       "3 -22.403595  15.724639  9.884775 -3.21343  \n",
       "4 -22.404545  15.725811  9.883851 -3.21343  "
      ]
     },
     "execution_count": 181,
     "metadata": {},
     "output_type": "execute_result"
    }
   ],
   "source": [
    "db6_average_linear_zalign.head()"
   ]
  },
  {
   "cell_type": "markdown",
   "metadata": {},
   "source": [
    "Line chart of the decomposed timeseries. (*Type:* coif1)"
   ]
  },
  {
   "cell_type": "code",
   "execution_count": 2,
   "metadata": {
    "collapsed": false
   },
   "outputs": [],
   "source": [
    "# Load decomposed timeseries for subject\n",
    "subject = '1a'\n",
    "df = pd.read_pickle('disco_decompose_coif1_average_linear_zalign.pkl')\n",
    "df = df[df.id==subject]"
   ]
  },
  {
   "cell_type": "code",
   "execution_count": 5,
   "metadata": {
    "collapsed": false
   },
   "outputs": [
    {
     "data": {
      "image/png": "[encoded data removed]",
      "text/plain": [
       "<matplotlib.figure.Figure at 0x2588f7fdeb8>"
      ]
     },
     "metadata": {},
     "output_type": "display_data"
    }
   ],
   "source": [
    "start,end = 55544580,57725830 # Session start and end times\n",
    "first,last = 0,-1\n",
    "T = df['t'][first:last].values # Time\n",
    "L01 = df['L01'][first:last].values # Level 1\n",
    "# L04 = df['L04'][first:last].values # Level 4\n",
    "L08 = df['L08'][first:last].values # Level 8\n",
    "# L12 = df['L12'][first:last].values # Level 12\n",
    "L16 = df['L16'][first:last].values # Level 16\n",
    "\n",
    "with sns.axes_style(\"whitegrid\"):\n",
    "    \n",
    "    fig = plt.figure(); plt.clf()\n",
    "    \n",
    "    plt.plot(T,L01,label='Level 1')\n",
    "    # plt.plot(T,L04,label='Level 4')\n",
    "    plt.plot(T,L08,label='Level 8')\n",
    "    # plt.plot(T,L12,label='Level 12')\n",
    "    plt.plot(T,L16,label='Level 16')\n",
    "    \n",
    "    plt.axis([start,end,-40,40])    \n",
    "    plt.ticklabel_format(style='plain',axis='x')\n",
    "    \n",
    "    plt.legend()\n",
    "    plt.xlabel(\"Timepoint (ms)\")\n",
    "    plt.ylabel(\"Normalized Acceleration (m/s^2)\")\n",
    "    plt.title(\"Subject \"+subject+\": Decomposed Accelerometer Data (Coiflet 1)\")\n",
    "    \n",
    "    plt.show()"
   ]
  }
 ],
 "metadata": {
  "anaconda-cloud": {},
  "kernelspec": {
   "display_name": "Python [Root]",
   "language": "python",
   "name": "Python [Root]"
  },
  "language_info": {
   "codemirror_mode": {
    "name": "ipython",
    "version": 3
   },
   "file_extension": ".py",
   "mimetype": "text/x-python",
   "name": "python",
   "nbconvert_exporter": "python",
   "pygments_lexer": "ipython3",
   "version": "3.5.2"
  }
 },
 "nbformat": 4,
 "nbformat_minor": 0
}
